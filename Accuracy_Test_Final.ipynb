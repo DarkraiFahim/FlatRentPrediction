{
  "nbformat": 4,
  "nbformat_minor": 0,
  "metadata": {
    "colab": {
      "name": "Accuracy Test Final.ipynb",
      "provenance": [],
      "collapsed_sections": []
    },
    "kernelspec": {
      "name": "python3",
      "display_name": "Python 3"
    },
    "language_info": {
      "name": "python"
    }
  },
  "cells": [
    {
      "cell_type": "code",
      "execution_count": null,
      "metadata": {
        "id": "iZ9cnORJna2I",
        "colab": {
          "base_uri": "https://localhost:8080/"
        },
        "outputId": "3fec957b-97f8-49ce-bf13-090fd0de4771"
      },
      "outputs": [
        {
          "output_type": "stream",
          "name": "stdout",
          "text": [
            "Mounted at /content/drive\n"
          ]
        }
      ],
      "source": [
        "from google.colab import drive\n",
        "drive.mount('/content/drive')"
      ]
    },
    {
      "cell_type": "code",
      "source": [
        "# importing libraries  \n",
        "import numpy as nm  \n",
        "import matplotlib.pyplot as mtp  \n",
        "import pandas as pd\n",
        "import seaborn as sns"
      ],
      "metadata": {
        "id": "MDKH6vE2oO1W"
      },
      "execution_count": null,
      "outputs": []
    },
    {
      "cell_type": "code",
      "source": [
        "#importing datasets  \n",
        "data_set= pd.read_csv('/content/drive/MyDrive/ML Dataset/FlatRentDataset.csv') "
      ],
      "metadata": {
        "id": "q3GnwHr_oQO1"
      },
      "execution_count": null,
      "outputs": []
    },
    {
      "cell_type": "code",
      "source": [
        "print(data_set)"
      ],
      "metadata": {
        "colab": {
          "base_uri": "https://localhost:8080/"
        },
        "id": "FjebTuGRrMTr",
        "outputId": "ca93570e-5231-4932-b98c-5856f5db409e"
      },
      "execution_count": null,
      "outputs": [
        {
          "output_type": "stream",
          "name": "stdout",
          "text": [
            "           Area  FlatSize NearbyBazar  FloorNumber  TotalBedrooms  \\\n",
            "0     Sadarghat      1616          No            5              3   \n",
            "1     Sadarghat      1580         Yes            1              3   \n",
            "2      Shahbagh      1450         Yes           13              3   \n",
            "3      Farmgate      1450          No            1              3   \n",
            "4      Khilgaon      1350          No            4              3   \n",
            "...         ...       ...         ...          ...            ...   \n",
            "1456  Dhanmondi      1200          No            4              3   \n",
            "1457   Banasree      1200         Yes            3              3   \n",
            "1458   Khilgaon      1050          No           15              2   \n",
            "1459   Shahbagh      1050         Yes            2              2   \n",
            "1460     Banani      1700          No            8              3   \n",
            "\n",
            "      AttachedWashrooms  TotalBalconies FloorType GarrageFacilities  \\\n",
            "0                     2               2     Tiles                No   \n",
            "1                     2               2    Mozaik                No   \n",
            "2                     2               2    Mozaik                No   \n",
            "3                     2               2    Mozaik               Yes   \n",
            "4                     2               2    Mozaik               Yes   \n",
            "...                 ...             ...       ...               ...   \n",
            "1456                  2               2    Mozaik                No   \n",
            "1457                  2               2    Mozaik               Yes   \n",
            "1458                  1               2     Tiles               Yes   \n",
            "1459                  1               2     Tiles               Yes   \n",
            "1460                  2               2    Mozaik                No   \n",
            "\n",
            "     LiftService GasAvailability SecurityService CCTVCoverage  \\\n",
            "0            Yes              No             Yes          Yes   \n",
            "1             No             Yes             Yes           No   \n",
            "2            Yes             Yes              No           No   \n",
            "3             No              No             Yes          Yes   \n",
            "4            Yes              No              No           No   \n",
            "...          ...             ...             ...          ...   \n",
            "1456          No             Yes              No          Yes   \n",
            "1457          No              No             Yes           No   \n",
            "1458         Yes              No              No          Yes   \n",
            "1459         Yes             Yes              No          Yes   \n",
            "1460         Yes             Yes              No           No   \n",
            "\n",
            "      WalkingDistanceFromMainRoad   Rent  \n",
            "0                              19  32000  \n",
            "1                              26  31000  \n",
            "2                              22  29000  \n",
            "3                              30  29000  \n",
            "4                              12  27000  \n",
            "...                           ...    ...  \n",
            "1456                            8  24000  \n",
            "1457                           23  24000  \n",
            "1458                            1  21000  \n",
            "1459                            1  21000  \n",
            "1460                           11  34000  \n",
            "\n",
            "[1461 rows x 15 columns]\n"
          ]
        }
      ]
    },
    {
      "cell_type": "code",
      "source": [
        "data_set.head()"
      ],
      "metadata": {
        "id": "OgG4Q3ullYdA",
        "colab": {
          "base_uri": "https://localhost:8080/",
          "height": 206
        },
        "outputId": "469ebf5a-c43a-4236-fe60-2916f692870f"
      },
      "execution_count": null,
      "outputs": [
        {
          "output_type": "execute_result",
          "data": {
            "text/plain": [
              "        Area  FlatSize NearbyBazar  FloorNumber  TotalBedrooms  \\\n",
              "0  Sadarghat      1616          No            5              3   \n",
              "1  Sadarghat      1580         Yes            1              3   \n",
              "2   Shahbagh      1450         Yes           13              3   \n",
              "3   Farmgate      1450          No            1              3   \n",
              "4   Khilgaon      1350          No            4              3   \n",
              "\n",
              "   AttachedWashrooms  TotalBalconies FloorType GarrageFacilities LiftService  \\\n",
              "0                  2               2     Tiles                No         Yes   \n",
              "1                  2               2    Mozaik                No          No   \n",
              "2                  2               2    Mozaik                No         Yes   \n",
              "3                  2               2    Mozaik               Yes          No   \n",
              "4                  2               2    Mozaik               Yes         Yes   \n",
              "\n",
              "  GasAvailability SecurityService CCTVCoverage  WalkingDistanceFromMainRoad  \\\n",
              "0              No             Yes          Yes                           19   \n",
              "1             Yes             Yes           No                           26   \n",
              "2             Yes              No           No                           22   \n",
              "3              No             Yes          Yes                           30   \n",
              "4              No              No           No                           12   \n",
              "\n",
              "    Rent  \n",
              "0  32000  \n",
              "1  31000  \n",
              "2  29000  \n",
              "3  29000  \n",
              "4  27000  "
            ],
            "text/html": [
              "\n",
              "  <div id=\"df-366523c4-923d-4765-bcf0-1ae389869199\">\n",
              "    <div class=\"colab-df-container\">\n",
              "      <div>\n",
              "<style scoped>\n",
              "    .dataframe tbody tr th:only-of-type {\n",
              "        vertical-align: middle;\n",
              "    }\n",
              "\n",
              "    .dataframe tbody tr th {\n",
              "        vertical-align: top;\n",
              "    }\n",
              "\n",
              "    .dataframe thead th {\n",
              "        text-align: right;\n",
              "    }\n",
              "</style>\n",
              "<table border=\"1\" class=\"dataframe\">\n",
              "  <thead>\n",
              "    <tr style=\"text-align: right;\">\n",
              "      <th></th>\n",
              "      <th>Area</th>\n",
              "      <th>FlatSize</th>\n",
              "      <th>NearbyBazar</th>\n",
              "      <th>FloorNumber</th>\n",
              "      <th>TotalBedrooms</th>\n",
              "      <th>AttachedWashrooms</th>\n",
              "      <th>TotalBalconies</th>\n",
              "      <th>FloorType</th>\n",
              "      <th>GarrageFacilities</th>\n",
              "      <th>LiftService</th>\n",
              "      <th>GasAvailability</th>\n",
              "      <th>SecurityService</th>\n",
              "      <th>CCTVCoverage</th>\n",
              "      <th>WalkingDistanceFromMainRoad</th>\n",
              "      <th>Rent</th>\n",
              "    </tr>\n",
              "  </thead>\n",
              "  <tbody>\n",
              "    <tr>\n",
              "      <th>0</th>\n",
              "      <td>Sadarghat</td>\n",
              "      <td>1616</td>\n",
              "      <td>No</td>\n",
              "      <td>5</td>\n",
              "      <td>3</td>\n",
              "      <td>2</td>\n",
              "      <td>2</td>\n",
              "      <td>Tiles</td>\n",
              "      <td>No</td>\n",
              "      <td>Yes</td>\n",
              "      <td>No</td>\n",
              "      <td>Yes</td>\n",
              "      <td>Yes</td>\n",
              "      <td>19</td>\n",
              "      <td>32000</td>\n",
              "    </tr>\n",
              "    <tr>\n",
              "      <th>1</th>\n",
              "      <td>Sadarghat</td>\n",
              "      <td>1580</td>\n",
              "      <td>Yes</td>\n",
              "      <td>1</td>\n",
              "      <td>3</td>\n",
              "      <td>2</td>\n",
              "      <td>2</td>\n",
              "      <td>Mozaik</td>\n",
              "      <td>No</td>\n",
              "      <td>No</td>\n",
              "      <td>Yes</td>\n",
              "      <td>Yes</td>\n",
              "      <td>No</td>\n",
              "      <td>26</td>\n",
              "      <td>31000</td>\n",
              "    </tr>\n",
              "    <tr>\n",
              "      <th>2</th>\n",
              "      <td>Shahbagh</td>\n",
              "      <td>1450</td>\n",
              "      <td>Yes</td>\n",
              "      <td>13</td>\n",
              "      <td>3</td>\n",
              "      <td>2</td>\n",
              "      <td>2</td>\n",
              "      <td>Mozaik</td>\n",
              "      <td>No</td>\n",
              "      <td>Yes</td>\n",
              "      <td>Yes</td>\n",
              "      <td>No</td>\n",
              "      <td>No</td>\n",
              "      <td>22</td>\n",
              "      <td>29000</td>\n",
              "    </tr>\n",
              "    <tr>\n",
              "      <th>3</th>\n",
              "      <td>Farmgate</td>\n",
              "      <td>1450</td>\n",
              "      <td>No</td>\n",
              "      <td>1</td>\n",
              "      <td>3</td>\n",
              "      <td>2</td>\n",
              "      <td>2</td>\n",
              "      <td>Mozaik</td>\n",
              "      <td>Yes</td>\n",
              "      <td>No</td>\n",
              "      <td>No</td>\n",
              "      <td>Yes</td>\n",
              "      <td>Yes</td>\n",
              "      <td>30</td>\n",
              "      <td>29000</td>\n",
              "    </tr>\n",
              "    <tr>\n",
              "      <th>4</th>\n",
              "      <td>Khilgaon</td>\n",
              "      <td>1350</td>\n",
              "      <td>No</td>\n",
              "      <td>4</td>\n",
              "      <td>3</td>\n",
              "      <td>2</td>\n",
              "      <td>2</td>\n",
              "      <td>Mozaik</td>\n",
              "      <td>Yes</td>\n",
              "      <td>Yes</td>\n",
              "      <td>No</td>\n",
              "      <td>No</td>\n",
              "      <td>No</td>\n",
              "      <td>12</td>\n",
              "      <td>27000</td>\n",
              "    </tr>\n",
              "  </tbody>\n",
              "</table>\n",
              "</div>\n",
              "      <button class=\"colab-df-convert\" onclick=\"convertToInteractive('df-366523c4-923d-4765-bcf0-1ae389869199')\"\n",
              "              title=\"Convert this dataframe to an interactive table.\"\n",
              "              style=\"display:none;\">\n",
              "        \n",
              "  <svg xmlns=\"http://www.w3.org/2000/svg\" height=\"24px\"viewBox=\"0 0 24 24\"\n",
              "       width=\"24px\">\n",
              "    <path d=\"M0 0h24v24H0V0z\" fill=\"none\"/>\n",
              "    <path d=\"M18.56 5.44l.94 2.06.94-2.06 2.06-.94-2.06-.94-.94-2.06-.94 2.06-2.06.94zm-11 1L8.5 8.5l.94-2.06 2.06-.94-2.06-.94L8.5 2.5l-.94 2.06-2.06.94zm10 10l.94 2.06.94-2.06 2.06-.94-2.06-.94-.94-2.06-.94 2.06-2.06.94z\"/><path d=\"M17.41 7.96l-1.37-1.37c-.4-.4-.92-.59-1.43-.59-.52 0-1.04.2-1.43.59L10.3 9.45l-7.72 7.72c-.78.78-.78 2.05 0 2.83L4 21.41c.39.39.9.59 1.41.59.51 0 1.02-.2 1.41-.59l7.78-7.78 2.81-2.81c.8-.78.8-2.07 0-2.86zM5.41 20L4 18.59l7.72-7.72 1.47 1.35L5.41 20z\"/>\n",
              "  </svg>\n",
              "      </button>\n",
              "      \n",
              "  <style>\n",
              "    .colab-df-container {\n",
              "      display:flex;\n",
              "      flex-wrap:wrap;\n",
              "      gap: 12px;\n",
              "    }\n",
              "\n",
              "    .colab-df-convert {\n",
              "      background-color: #E8F0FE;\n",
              "      border: none;\n",
              "      border-radius: 50%;\n",
              "      cursor: pointer;\n",
              "      display: none;\n",
              "      fill: #1967D2;\n",
              "      height: 32px;\n",
              "      padding: 0 0 0 0;\n",
              "      width: 32px;\n",
              "    }\n",
              "\n",
              "    .colab-df-convert:hover {\n",
              "      background-color: #E2EBFA;\n",
              "      box-shadow: 0px 1px 2px rgba(60, 64, 67, 0.3), 0px 1px 3px 1px rgba(60, 64, 67, 0.15);\n",
              "      fill: #174EA6;\n",
              "    }\n",
              "\n",
              "    [theme=dark] .colab-df-convert {\n",
              "      background-color: #3B4455;\n",
              "      fill: #D2E3FC;\n",
              "    }\n",
              "\n",
              "    [theme=dark] .colab-df-convert:hover {\n",
              "      background-color: #434B5C;\n",
              "      box-shadow: 0px 1px 3px 1px rgba(0, 0, 0, 0.15);\n",
              "      filter: drop-shadow(0px 1px 2px rgba(0, 0, 0, 0.3));\n",
              "      fill: #FFFFFF;\n",
              "    }\n",
              "  </style>\n",
              "\n",
              "      <script>\n",
              "        const buttonEl =\n",
              "          document.querySelector('#df-366523c4-923d-4765-bcf0-1ae389869199 button.colab-df-convert');\n",
              "        buttonEl.style.display =\n",
              "          google.colab.kernel.accessAllowed ? 'block' : 'none';\n",
              "\n",
              "        async function convertToInteractive(key) {\n",
              "          const element = document.querySelector('#df-366523c4-923d-4765-bcf0-1ae389869199');\n",
              "          const dataTable =\n",
              "            await google.colab.kernel.invokeFunction('convertToInteractive',\n",
              "                                                     [key], {});\n",
              "          if (!dataTable) return;\n",
              "\n",
              "          const docLinkHtml = 'Like what you see? Visit the ' +\n",
              "            '<a target=\"_blank\" href=https://colab.research.google.com/notebooks/data_table.ipynb>data table notebook</a>'\n",
              "            + ' to learn more about interactive tables.';\n",
              "          element.innerHTML = '';\n",
              "          dataTable['output_type'] = 'display_data';\n",
              "          await google.colab.output.renderOutput(dataTable, element);\n",
              "          const docLink = document.createElement('div');\n",
              "          docLink.innerHTML = docLinkHtml;\n",
              "          element.appendChild(docLink);\n",
              "        }\n",
              "      </script>\n",
              "    </div>\n",
              "  </div>\n",
              "  "
            ]
          },
          "metadata": {},
          "execution_count": 5
        }
      ]
    },
    {
      "cell_type": "code",
      "source": [
        "data_set.shape"
      ],
      "metadata": {
        "colab": {
          "base_uri": "https://localhost:8080/"
        },
        "id": "_fJemPqEr52k",
        "outputId": "cd87d176-2a31-4b3e-a76f-2ac1bfdbc13c"
      },
      "execution_count": null,
      "outputs": [
        {
          "output_type": "execute_result",
          "data": {
            "text/plain": [
              "(1461, 15)"
            ]
          },
          "metadata": {},
          "execution_count": 6
        }
      ]
    },
    {
      "cell_type": "code",
      "source": [
        "col_names = ['Area', 'FlatSize', 'NearbyBazar', 'FloorNumber', 'TotalBedrooms','AttachedWashrooms', 'TotalBalconies', 'FloorType','GarrageFacilities', 'LiftService', 'GasAvailability',\n",
        "'SecurityService', 'CCTVCoverage', 'WalkingDistanceFromMainRoad','Rent']\n",
        "data_set.columns = col_names\n",
        "col_names"
      ],
      "metadata": {
        "colab": {
          "base_uri": "https://localhost:8080/"
        },
        "id": "AbOSS7f3sJsa",
        "outputId": "5e112379-b8cd-41af-f901-1197b67cc9cc"
      },
      "execution_count": null,
      "outputs": [
        {
          "output_type": "execute_result",
          "data": {
            "text/plain": [
              "['Area',\n",
              " 'FlatSize',\n",
              " 'NearbyBazar',\n",
              " 'FloorNumber',\n",
              " 'TotalBedrooms',\n",
              " 'AttachedWashrooms',\n",
              " 'TotalBalconies',\n",
              " 'FloorType',\n",
              " 'GarrageFacilities',\n",
              " 'LiftService',\n",
              " 'GasAvailability',\n",
              " 'SecurityService',\n",
              " 'CCTVCoverage',\n",
              " 'WalkingDistanceFromMainRoad',\n",
              " 'Rent']"
            ]
          },
          "metadata": {},
          "execution_count": 7
        }
      ]
    },
    {
      "cell_type": "code",
      "source": [
        "col_names = ['Area', 'FlatSize', 'NearbyBazar', 'FloorNumber', 'TotalBedrooms','AttachedWashrooms', 'TotalBalconies', 'FloorType','GarrageFacilities', 'LiftService', 'GasAvailability',\n",
        "'SecurityService', 'CCTVCoverage', 'WalkingDistanceFromMainRoad','Rent']\n",
        "for col in col_names:\n",
        "  print(data_set[col].value_counts())"
      ],
      "metadata": {
        "colab": {
          "base_uri": "https://localhost:8080/"
        },
        "id": "R-TyIHWCxG-a",
        "outputId": "9d646882-7dd3-4014-a9e7-84f14c92591e"
      },
      "execution_count": null,
      "outputs": [
        {
          "output_type": "stream",
          "name": "stdout",
          "text": [
            "Badda              79\n",
            "Abdullahpur        75\n",
            "Shahbagh           75\n",
            "Banani             74\n",
            "Cantonment area    73\n",
            "Rampura            72\n",
            "Motijheel          71\n",
            "Uttara             69\n",
            "Paltan             69\n",
            "Mohakhali          67\n",
            "Bashundhara        66\n",
            "Dhanmondi          66\n",
            "Khilgaon           66\n",
            "Khilkhet           62\n",
            "Ramna              61\n",
            "Farmgate           60\n",
            "Mohammadpur        60\n",
            "Wari               58\n",
            "Sadarghat          58\n",
            "Gulshan            48\n",
            "Banasree           47\n",
            "Tejgaon            45\n",
            "Baridhara          40\n",
            "Name: Area, dtype: int64\n",
            "1450    74\n",
            "1616    72\n",
            "1600    69\n",
            "1050    68\n",
            "1400    67\n",
            "1500    66\n",
            "1580    65\n",
            "1350    65\n",
            "1250    61\n",
            "850     59\n",
            "950     59\n",
            "1100    59\n",
            "1200    57\n",
            "1000    56\n",
            "1650    56\n",
            "1150    55\n",
            "1380    55\n",
            "1550    54\n",
            "1300    54\n",
            "1700    54\n",
            "900     52\n",
            "1800    48\n",
            "800     47\n",
            "1750    45\n",
            "1390    44\n",
            "Name: FlatSize, dtype: int64\n",
            "Yes    732\n",
            "No     729\n",
            "Name: NearbyBazar, dtype: int64\n",
            "1     156\n",
            "2     148\n",
            "6     146\n",
            "5     144\n",
            "4     140\n",
            "3     138\n",
            "9      79\n",
            "8      74\n",
            "14     71\n",
            "12     67\n",
            "15     65\n",
            "7      61\n",
            "13     58\n",
            "10     57\n",
            "11     57\n",
            "Name: FloorNumber, dtype: int64\n",
            "3    1120\n",
            "2     338\n",
            "4       3\n",
            "Name: TotalBedrooms, dtype: int64\n",
            "2    1030\n",
            "1     329\n",
            "3     102\n",
            "Name: AttachedWashrooms, dtype: int64\n",
            "2    1260\n",
            "1     121\n",
            "3      80\n",
            "Name: TotalBalconies, dtype: int64\n",
            "Mozaik    704\n",
            "Tiles     693\n",
            "Cement     64\n",
            "Name: FloorType, dtype: int64\n",
            "Yes    744\n",
            "No     717\n",
            "Name: GarrageFacilities, dtype: int64\n",
            "Yes    1028\n",
            "No      433\n",
            "Name: LiftService, dtype: int64\n",
            "No     732\n",
            "Yes    729\n",
            "Name: GasAvailability, dtype: int64\n",
            "Yes    758\n",
            "No     703\n",
            "Name: SecurityService, dtype: int64\n",
            "No     742\n",
            "Yes    719\n",
            "Name: CCTVCoverage, dtype: int64\n",
            "3     62\n",
            "10    60\n",
            "29    56\n",
            "4     55\n",
            "23    54\n",
            "19    53\n",
            "27    53\n",
            "25    52\n",
            "6     51\n",
            "11    50\n",
            "22    50\n",
            "21    50\n",
            "26    48\n",
            "16    47\n",
            "5     47\n",
            "1     47\n",
            "8     46\n",
            "18    45\n",
            "17    44\n",
            "2     44\n",
            "24    43\n",
            "15    42\n",
            "14    42\n",
            "9     42\n",
            "30    42\n",
            "20    40\n",
            "13    40\n",
            "7     40\n",
            "0     40\n",
            "28    38\n",
            "12    38\n",
            "Name: WalkingDistanceFromMainRoad, dtype: int64\n",
            "32000    168\n",
            "28000    136\n",
            "27000     95\n",
            "31000     93\n",
            "29000     74\n",
            "21000     68\n",
            "30000     66\n",
            "25000     61\n",
            "17000     59\n",
            "22000     59\n",
            "19000     59\n",
            "33000     57\n",
            "24000     57\n",
            "20000     56\n",
            "23000     55\n",
            "34000     55\n",
            "26000     54\n",
            "18000     52\n",
            "16000     47\n",
            "35000     46\n",
            "36000     24\n",
            "45000      3\n",
            "52000      3\n",
            "53000      2\n",
            "54000      2\n",
            "60000      2\n",
            "40000      2\n",
            "44000      1\n",
            "32500      1\n",
            "5500       1\n",
            "41000      1\n",
            "55000      1\n",
            "39000      1\n",
            "Name: Rent, dtype: int64\n"
          ]
        }
      ]
    },
    {
      "cell_type": "code",
      "source": [
        "data_set['Rent'].value_counts()"
      ],
      "metadata": {
        "colab": {
          "base_uri": "https://localhost:8080/"
        },
        "id": "fH4bIyGaxbO6",
        "outputId": "7a5c82f3-053c-4022-e853-758e15010a80"
      },
      "execution_count": null,
      "outputs": [
        {
          "output_type": "execute_result",
          "data": {
            "text/plain": [
              "32000    168\n",
              "28000    136\n",
              "27000     95\n",
              "31000     93\n",
              "29000     74\n",
              "21000     68\n",
              "30000     66\n",
              "25000     61\n",
              "17000     59\n",
              "22000     59\n",
              "19000     59\n",
              "33000     57\n",
              "24000     57\n",
              "20000     56\n",
              "23000     55\n",
              "34000     55\n",
              "26000     54\n",
              "18000     52\n",
              "16000     47\n",
              "35000     46\n",
              "36000     24\n",
              "45000      3\n",
              "52000      3\n",
              "53000      2\n",
              "54000      2\n",
              "60000      2\n",
              "40000      2\n",
              "44000      1\n",
              "32500      1\n",
              "5500       1\n",
              "41000      1\n",
              "55000      1\n",
              "39000      1\n",
              "Name: Rent, dtype: int64"
            ]
          },
          "metadata": {},
          "execution_count": 9
        }
      ]
    },
    {
      "cell_type": "code",
      "source": [
        "data_set.isnull().sum()"
      ],
      "metadata": {
        "colab": {
          "base_uri": "https://localhost:8080/"
        },
        "id": "0JhPgkXmx4qO",
        "outputId": "fd326528-641b-45a1-b5c9-45c3d837e45f"
      },
      "execution_count": null,
      "outputs": [
        {
          "output_type": "execute_result",
          "data": {
            "text/plain": [
              "Area                           0\n",
              "FlatSize                       0\n",
              "NearbyBazar                    0\n",
              "FloorNumber                    0\n",
              "TotalBedrooms                  0\n",
              "AttachedWashrooms              0\n",
              "TotalBalconies                 0\n",
              "FloorType                      0\n",
              "GarrageFacilities              0\n",
              "LiftService                    0\n",
              "GasAvailability                0\n",
              "SecurityService                0\n",
              "CCTVCoverage                   0\n",
              "WalkingDistanceFromMainRoad    0\n",
              "Rent                           0\n",
              "dtype: int64"
            ]
          },
          "metadata": {},
          "execution_count": 10
        }
      ]
    },
    {
      "cell_type": "code",
      "source": [
        "x = data_set.drop(['Rent'], axis=1)\n",
        "y = data_set['Rent']"
      ],
      "metadata": {
        "id": "lETYKRJWx8MO"
      },
      "execution_count": null,
      "outputs": []
    },
    {
      "cell_type": "code",
      "source": [
        "x"
      ],
      "metadata": {
        "colab": {
          "base_uri": "https://localhost:8080/",
          "height": 424
        },
        "id": "8g1e72CYyJe9",
        "outputId": "894dde1f-776d-42c7-9628-49485bfe24b6"
      },
      "execution_count": null,
      "outputs": [
        {
          "output_type": "execute_result",
          "data": {
            "text/plain": [
              "           Area  FlatSize NearbyBazar  FloorNumber  TotalBedrooms  \\\n",
              "0     Sadarghat      1616          No            5              3   \n",
              "1     Sadarghat      1580         Yes            1              3   \n",
              "2      Shahbagh      1450         Yes           13              3   \n",
              "3      Farmgate      1450          No            1              3   \n",
              "4      Khilgaon      1350          No            4              3   \n",
              "...         ...       ...         ...          ...            ...   \n",
              "1456  Dhanmondi      1200          No            4              3   \n",
              "1457   Banasree      1200         Yes            3              3   \n",
              "1458   Khilgaon      1050          No           15              2   \n",
              "1459   Shahbagh      1050         Yes            2              2   \n",
              "1460     Banani      1700          No            8              3   \n",
              "\n",
              "      AttachedWashrooms  TotalBalconies FloorType GarrageFacilities  \\\n",
              "0                     2               2     Tiles                No   \n",
              "1                     2               2    Mozaik                No   \n",
              "2                     2               2    Mozaik                No   \n",
              "3                     2               2    Mozaik               Yes   \n",
              "4                     2               2    Mozaik               Yes   \n",
              "...                 ...             ...       ...               ...   \n",
              "1456                  2               2    Mozaik                No   \n",
              "1457                  2               2    Mozaik               Yes   \n",
              "1458                  1               2     Tiles               Yes   \n",
              "1459                  1               2     Tiles               Yes   \n",
              "1460                  2               2    Mozaik                No   \n",
              "\n",
              "     LiftService GasAvailability SecurityService CCTVCoverage  \\\n",
              "0            Yes              No             Yes          Yes   \n",
              "1             No             Yes             Yes           No   \n",
              "2            Yes             Yes              No           No   \n",
              "3             No              No             Yes          Yes   \n",
              "4            Yes              No              No           No   \n",
              "...          ...             ...             ...          ...   \n",
              "1456          No             Yes              No          Yes   \n",
              "1457          No              No             Yes           No   \n",
              "1458         Yes              No              No          Yes   \n",
              "1459         Yes             Yes              No          Yes   \n",
              "1460         Yes             Yes              No           No   \n",
              "\n",
              "      WalkingDistanceFromMainRoad  \n",
              "0                              19  \n",
              "1                              26  \n",
              "2                              22  \n",
              "3                              30  \n",
              "4                              12  \n",
              "...                           ...  \n",
              "1456                            8  \n",
              "1457                           23  \n",
              "1458                            1  \n",
              "1459                            1  \n",
              "1460                           11  \n",
              "\n",
              "[1461 rows x 14 columns]"
            ],
            "text/html": [
              "\n",
              "  <div id=\"df-d21c9908-0d22-4e75-aef2-7c501ce0a586\">\n",
              "    <div class=\"colab-df-container\">\n",
              "      <div>\n",
              "<style scoped>\n",
              "    .dataframe tbody tr th:only-of-type {\n",
              "        vertical-align: middle;\n",
              "    }\n",
              "\n",
              "    .dataframe tbody tr th {\n",
              "        vertical-align: top;\n",
              "    }\n",
              "\n",
              "    .dataframe thead th {\n",
              "        text-align: right;\n",
              "    }\n",
              "</style>\n",
              "<table border=\"1\" class=\"dataframe\">\n",
              "  <thead>\n",
              "    <tr style=\"text-align: right;\">\n",
              "      <th></th>\n",
              "      <th>Area</th>\n",
              "      <th>FlatSize</th>\n",
              "      <th>NearbyBazar</th>\n",
              "      <th>FloorNumber</th>\n",
              "      <th>TotalBedrooms</th>\n",
              "      <th>AttachedWashrooms</th>\n",
              "      <th>TotalBalconies</th>\n",
              "      <th>FloorType</th>\n",
              "      <th>GarrageFacilities</th>\n",
              "      <th>LiftService</th>\n",
              "      <th>GasAvailability</th>\n",
              "      <th>SecurityService</th>\n",
              "      <th>CCTVCoverage</th>\n",
              "      <th>WalkingDistanceFromMainRoad</th>\n",
              "    </tr>\n",
              "  </thead>\n",
              "  <tbody>\n",
              "    <tr>\n",
              "      <th>0</th>\n",
              "      <td>Sadarghat</td>\n",
              "      <td>1616</td>\n",
              "      <td>No</td>\n",
              "      <td>5</td>\n",
              "      <td>3</td>\n",
              "      <td>2</td>\n",
              "      <td>2</td>\n",
              "      <td>Tiles</td>\n",
              "      <td>No</td>\n",
              "      <td>Yes</td>\n",
              "      <td>No</td>\n",
              "      <td>Yes</td>\n",
              "      <td>Yes</td>\n",
              "      <td>19</td>\n",
              "    </tr>\n",
              "    <tr>\n",
              "      <th>1</th>\n",
              "      <td>Sadarghat</td>\n",
              "      <td>1580</td>\n",
              "      <td>Yes</td>\n",
              "      <td>1</td>\n",
              "      <td>3</td>\n",
              "      <td>2</td>\n",
              "      <td>2</td>\n",
              "      <td>Mozaik</td>\n",
              "      <td>No</td>\n",
              "      <td>No</td>\n",
              "      <td>Yes</td>\n",
              "      <td>Yes</td>\n",
              "      <td>No</td>\n",
              "      <td>26</td>\n",
              "    </tr>\n",
              "    <tr>\n",
              "      <th>2</th>\n",
              "      <td>Shahbagh</td>\n",
              "      <td>1450</td>\n",
              "      <td>Yes</td>\n",
              "      <td>13</td>\n",
              "      <td>3</td>\n",
              "      <td>2</td>\n",
              "      <td>2</td>\n",
              "      <td>Mozaik</td>\n",
              "      <td>No</td>\n",
              "      <td>Yes</td>\n",
              "      <td>Yes</td>\n",
              "      <td>No</td>\n",
              "      <td>No</td>\n",
              "      <td>22</td>\n",
              "    </tr>\n",
              "    <tr>\n",
              "      <th>3</th>\n",
              "      <td>Farmgate</td>\n",
              "      <td>1450</td>\n",
              "      <td>No</td>\n",
              "      <td>1</td>\n",
              "      <td>3</td>\n",
              "      <td>2</td>\n",
              "      <td>2</td>\n",
              "      <td>Mozaik</td>\n",
              "      <td>Yes</td>\n",
              "      <td>No</td>\n",
              "      <td>No</td>\n",
              "      <td>Yes</td>\n",
              "      <td>Yes</td>\n",
              "      <td>30</td>\n",
              "    </tr>\n",
              "    <tr>\n",
              "      <th>4</th>\n",
              "      <td>Khilgaon</td>\n",
              "      <td>1350</td>\n",
              "      <td>No</td>\n",
              "      <td>4</td>\n",
              "      <td>3</td>\n",
              "      <td>2</td>\n",
              "      <td>2</td>\n",
              "      <td>Mozaik</td>\n",
              "      <td>Yes</td>\n",
              "      <td>Yes</td>\n",
              "      <td>No</td>\n",
              "      <td>No</td>\n",
              "      <td>No</td>\n",
              "      <td>12</td>\n",
              "    </tr>\n",
              "    <tr>\n",
              "      <th>...</th>\n",
              "      <td>...</td>\n",
              "      <td>...</td>\n",
              "      <td>...</td>\n",
              "      <td>...</td>\n",
              "      <td>...</td>\n",
              "      <td>...</td>\n",
              "      <td>...</td>\n",
              "      <td>...</td>\n",
              "      <td>...</td>\n",
              "      <td>...</td>\n",
              "      <td>...</td>\n",
              "      <td>...</td>\n",
              "      <td>...</td>\n",
              "      <td>...</td>\n",
              "    </tr>\n",
              "    <tr>\n",
              "      <th>1456</th>\n",
              "      <td>Dhanmondi</td>\n",
              "      <td>1200</td>\n",
              "      <td>No</td>\n",
              "      <td>4</td>\n",
              "      <td>3</td>\n",
              "      <td>2</td>\n",
              "      <td>2</td>\n",
              "      <td>Mozaik</td>\n",
              "      <td>No</td>\n",
              "      <td>No</td>\n",
              "      <td>Yes</td>\n",
              "      <td>No</td>\n",
              "      <td>Yes</td>\n",
              "      <td>8</td>\n",
              "    </tr>\n",
              "    <tr>\n",
              "      <th>1457</th>\n",
              "      <td>Banasree</td>\n",
              "      <td>1200</td>\n",
              "      <td>Yes</td>\n",
              "      <td>3</td>\n",
              "      <td>3</td>\n",
              "      <td>2</td>\n",
              "      <td>2</td>\n",
              "      <td>Mozaik</td>\n",
              "      <td>Yes</td>\n",
              "      <td>No</td>\n",
              "      <td>No</td>\n",
              "      <td>Yes</td>\n",
              "      <td>No</td>\n",
              "      <td>23</td>\n",
              "    </tr>\n",
              "    <tr>\n",
              "      <th>1458</th>\n",
              "      <td>Khilgaon</td>\n",
              "      <td>1050</td>\n",
              "      <td>No</td>\n",
              "      <td>15</td>\n",
              "      <td>2</td>\n",
              "      <td>1</td>\n",
              "      <td>2</td>\n",
              "      <td>Tiles</td>\n",
              "      <td>Yes</td>\n",
              "      <td>Yes</td>\n",
              "      <td>No</td>\n",
              "      <td>No</td>\n",
              "      <td>Yes</td>\n",
              "      <td>1</td>\n",
              "    </tr>\n",
              "    <tr>\n",
              "      <th>1459</th>\n",
              "      <td>Shahbagh</td>\n",
              "      <td>1050</td>\n",
              "      <td>Yes</td>\n",
              "      <td>2</td>\n",
              "      <td>2</td>\n",
              "      <td>1</td>\n",
              "      <td>2</td>\n",
              "      <td>Tiles</td>\n",
              "      <td>Yes</td>\n",
              "      <td>Yes</td>\n",
              "      <td>Yes</td>\n",
              "      <td>No</td>\n",
              "      <td>Yes</td>\n",
              "      <td>1</td>\n",
              "    </tr>\n",
              "    <tr>\n",
              "      <th>1460</th>\n",
              "      <td>Banani</td>\n",
              "      <td>1700</td>\n",
              "      <td>No</td>\n",
              "      <td>8</td>\n",
              "      <td>3</td>\n",
              "      <td>2</td>\n",
              "      <td>2</td>\n",
              "      <td>Mozaik</td>\n",
              "      <td>No</td>\n",
              "      <td>Yes</td>\n",
              "      <td>Yes</td>\n",
              "      <td>No</td>\n",
              "      <td>No</td>\n",
              "      <td>11</td>\n",
              "    </tr>\n",
              "  </tbody>\n",
              "</table>\n",
              "<p>1461 rows × 14 columns</p>\n",
              "</div>\n",
              "      <button class=\"colab-df-convert\" onclick=\"convertToInteractive('df-d21c9908-0d22-4e75-aef2-7c501ce0a586')\"\n",
              "              title=\"Convert this dataframe to an interactive table.\"\n",
              "              style=\"display:none;\">\n",
              "        \n",
              "  <svg xmlns=\"http://www.w3.org/2000/svg\" height=\"24px\"viewBox=\"0 0 24 24\"\n",
              "       width=\"24px\">\n",
              "    <path d=\"M0 0h24v24H0V0z\" fill=\"none\"/>\n",
              "    <path d=\"M18.56 5.44l.94 2.06.94-2.06 2.06-.94-2.06-.94-.94-2.06-.94 2.06-2.06.94zm-11 1L8.5 8.5l.94-2.06 2.06-.94-2.06-.94L8.5 2.5l-.94 2.06-2.06.94zm10 10l.94 2.06.94-2.06 2.06-.94-2.06-.94-.94-2.06-.94 2.06-2.06.94z\"/><path d=\"M17.41 7.96l-1.37-1.37c-.4-.4-.92-.59-1.43-.59-.52 0-1.04.2-1.43.59L10.3 9.45l-7.72 7.72c-.78.78-.78 2.05 0 2.83L4 21.41c.39.39.9.59 1.41.59.51 0 1.02-.2 1.41-.59l7.78-7.78 2.81-2.81c.8-.78.8-2.07 0-2.86zM5.41 20L4 18.59l7.72-7.72 1.47 1.35L5.41 20z\"/>\n",
              "  </svg>\n",
              "      </button>\n",
              "      \n",
              "  <style>\n",
              "    .colab-df-container {\n",
              "      display:flex;\n",
              "      flex-wrap:wrap;\n",
              "      gap: 12px;\n",
              "    }\n",
              "\n",
              "    .colab-df-convert {\n",
              "      background-color: #E8F0FE;\n",
              "      border: none;\n",
              "      border-radius: 50%;\n",
              "      cursor: pointer;\n",
              "      display: none;\n",
              "      fill: #1967D2;\n",
              "      height: 32px;\n",
              "      padding: 0 0 0 0;\n",
              "      width: 32px;\n",
              "    }\n",
              "\n",
              "    .colab-df-convert:hover {\n",
              "      background-color: #E2EBFA;\n",
              "      box-shadow: 0px 1px 2px rgba(60, 64, 67, 0.3), 0px 1px 3px 1px rgba(60, 64, 67, 0.15);\n",
              "      fill: #174EA6;\n",
              "    }\n",
              "\n",
              "    [theme=dark] .colab-df-convert {\n",
              "      background-color: #3B4455;\n",
              "      fill: #D2E3FC;\n",
              "    }\n",
              "\n",
              "    [theme=dark] .colab-df-convert:hover {\n",
              "      background-color: #434B5C;\n",
              "      box-shadow: 0px 1px 3px 1px rgba(0, 0, 0, 0.15);\n",
              "      filter: drop-shadow(0px 1px 2px rgba(0, 0, 0, 0.3));\n",
              "      fill: #FFFFFF;\n",
              "    }\n",
              "  </style>\n",
              "\n",
              "      <script>\n",
              "        const buttonEl =\n",
              "          document.querySelector('#df-d21c9908-0d22-4e75-aef2-7c501ce0a586 button.colab-df-convert');\n",
              "        buttonEl.style.display =\n",
              "          google.colab.kernel.accessAllowed ? 'block' : 'none';\n",
              "\n",
              "        async function convertToInteractive(key) {\n",
              "          const element = document.querySelector('#df-d21c9908-0d22-4e75-aef2-7c501ce0a586');\n",
              "          const dataTable =\n",
              "            await google.colab.kernel.invokeFunction('convertToInteractive',\n",
              "                                                     [key], {});\n",
              "          if (!dataTable) return;\n",
              "\n",
              "          const docLinkHtml = 'Like what you see? Visit the ' +\n",
              "            '<a target=\"_blank\" href=https://colab.research.google.com/notebooks/data_table.ipynb>data table notebook</a>'\n",
              "            + ' to learn more about interactive tables.';\n",
              "          element.innerHTML = '';\n",
              "          dataTable['output_type'] = 'display_data';\n",
              "          await google.colab.output.renderOutput(dataTable, element);\n",
              "          const docLink = document.createElement('div');\n",
              "          docLink.innerHTML = docLinkHtml;\n",
              "          element.appendChild(docLink);\n",
              "        }\n",
              "      </script>\n",
              "    </div>\n",
              "  </div>\n",
              "  "
            ]
          },
          "metadata": {},
          "execution_count": 12
        }
      ]
    },
    {
      "cell_type": "code",
      "source": [
        "y\n"
      ],
      "metadata": {
        "colab": {
          "base_uri": "https://localhost:8080/"
        },
        "id": "r67AYLCvyY-b",
        "outputId": "8b7defcb-eb03-487d-9969-bc07d3f13858"
      },
      "execution_count": null,
      "outputs": [
        {
          "output_type": "execute_result",
          "data": {
            "text/plain": [
              "0       32000\n",
              "1       31000\n",
              "2       29000\n",
              "3       29000\n",
              "4       27000\n",
              "        ...  \n",
              "1456    24000\n",
              "1457    24000\n",
              "1458    21000\n",
              "1459    21000\n",
              "1460    34000\n",
              "Name: Rent, Length: 1461, dtype: int64"
            ]
          },
          "metadata": {},
          "execution_count": 13
        }
      ]
    },
    {
      "cell_type": "code",
      "source": [
        "from sklearn.model_selection import train_test_split\n",
        "X_train, X_test, y_train, y_test = train_test_split(x, y, test_size = 0.20, random_state= 0)"
      ],
      "metadata": {
        "id": "SCP6atq-yhJv"
      },
      "execution_count": null,
      "outputs": []
    },
    {
      "cell_type": "code",
      "source": [
        "X_train.shape, X_test.shape"
      ],
      "metadata": {
        "colab": {
          "base_uri": "https://localhost:8080/"
        },
        "id": "4E6K-fU1yugz",
        "outputId": "e25a2ded-668f-4d8b-a705-e2467c5f414c"
      },
      "execution_count": null,
      "outputs": [
        {
          "output_type": "execute_result",
          "data": {
            "text/plain": [
              "((1168, 14), (293, 14))"
            ]
          },
          "metadata": {},
          "execution_count": 15
        }
      ]
    },
    {
      "cell_type": "code",
      "source": [
        "pip install --upgrade category_encoders"
      ],
      "metadata": {
        "colab": {
          "base_uri": "https://localhost:8080/"
        },
        "id": "SSCZDX46zLew",
        "outputId": "9655a809-2f32-44a7-d4bf-6ad24f4aa6e3"
      },
      "execution_count": null,
      "outputs": [
        {
          "output_type": "stream",
          "name": "stdout",
          "text": [
            "Looking in indexes: https://pypi.org/simple, https://us-python.pkg.dev/colab-wheels/public/simple/\n",
            "Collecting category_encoders\n",
            "  Downloading category_encoders-2.5.0-py2.py3-none-any.whl (69 kB)\n",
            "\u001b[K     |████████████████████████████████| 69 kB 3.4 MB/s \n",
            "\u001b[?25hRequirement already satisfied: numpy>=1.14.0 in /usr/local/lib/python3.7/dist-packages (from category_encoders) (1.21.6)\n",
            "Requirement already satisfied: statsmodels>=0.9.0 in /usr/local/lib/python3.7/dist-packages (from category_encoders) (0.10.2)\n",
            "Requirement already satisfied: scipy>=1.0.0 in /usr/local/lib/python3.7/dist-packages (from category_encoders) (1.7.3)\n",
            "Requirement already satisfied: scikit-learn>=0.20.0 in /usr/local/lib/python3.7/dist-packages (from category_encoders) (1.0.2)\n",
            "Requirement already satisfied: patsy>=0.5.1 in /usr/local/lib/python3.7/dist-packages (from category_encoders) (0.5.2)\n",
            "Requirement already satisfied: pandas>=1.0.5 in /usr/local/lib/python3.7/dist-packages (from category_encoders) (1.3.5)\n",
            "Requirement already satisfied: python-dateutil>=2.7.3 in /usr/local/lib/python3.7/dist-packages (from pandas>=1.0.5->category_encoders) (2.8.2)\n",
            "Requirement already satisfied: pytz>=2017.3 in /usr/local/lib/python3.7/dist-packages (from pandas>=1.0.5->category_encoders) (2022.1)\n",
            "Requirement already satisfied: six in /usr/local/lib/python3.7/dist-packages (from patsy>=0.5.1->category_encoders) (1.15.0)\n",
            "Requirement already satisfied: threadpoolctl>=2.0.0 in /usr/local/lib/python3.7/dist-packages (from scikit-learn>=0.20.0->category_encoders) (3.1.0)\n",
            "Requirement already satisfied: joblib>=0.11 in /usr/local/lib/python3.7/dist-packages (from scikit-learn>=0.20.0->category_encoders) (1.1.0)\n",
            "Installing collected packages: category-encoders\n",
            "Successfully installed category-encoders-2.5.0\n"
          ]
        }
      ]
    },
    {
      "cell_type": "code",
      "source": [
        "import category_encoders as ce"
      ],
      "metadata": {
        "id": "puPvQ-Xozin5",
        "colab": {
          "base_uri": "https://localhost:8080/"
        },
        "outputId": "bdd8a610-6c16-4f5d-fecb-b7541dfa934b"
      },
      "execution_count": null,
      "outputs": [
        {
          "output_type": "stream",
          "name": "stderr",
          "text": [
            "/usr/local/lib/python3.7/dist-packages/statsmodels/tools/_testing.py:19: FutureWarning: pandas.util.testing is deprecated. Use the functions in the public API at pandas.testing instead.\n",
            "  import pandas.util.testing as tm\n"
          ]
        }
      ]
    },
    {
      "cell_type": "code",
      "source": [
        "# Transform string value to int value\n",
        "\n",
        "encoder = ce.OrdinalEncoder(cols= ['Area', 'NearbyBazar', 'FloorType','GarrageFacilities', 'LiftService', 'GasAvailability',\n",
        "'SecurityService', 'CCTVCoverage'])\n",
        "\n",
        "X_train = encoder.fit_transform(X_train)\n",
        "X_test = encoder.transform(X_test)"
      ],
      "metadata": {
        "id": "WeNIWNAnzkKp"
      },
      "execution_count": null,
      "outputs": []
    },
    {
      "cell_type": "code",
      "source": [
        "X_train.head()"
      ],
      "metadata": {
        "colab": {
          "base_uri": "https://localhost:8080/",
          "height": 206
        },
        "id": "LZJZv40e2F7j",
        "outputId": "103954fd-479e-4966-8ae9-1bfa7a50a5a4"
      },
      "execution_count": null,
      "outputs": [
        {
          "output_type": "execute_result",
          "data": {
            "text/plain": [
              "      Area  FlatSize  NearbyBazar  FloorNumber  TotalBedrooms  \\\n",
              "646      1      1380            1            6              3   \n",
              "92       2       900            2            6              2   \n",
              "818      1      1616            2            7              3   \n",
              "302      3      1150            1            5              3   \n",
              "1259     4      1050            2            1              3   \n",
              "\n",
              "      AttachedWashrooms  TotalBalconies  FloorType  GarrageFacilities  \\\n",
              "646                   2               2          1                  1   \n",
              "92                    1               2          1                  2   \n",
              "818                   2               2          2                  2   \n",
              "302                   2               2          1                  2   \n",
              "1259                  1               2          1                  2   \n",
              "\n",
              "      LiftService  GasAvailability  SecurityService  CCTVCoverage  \\\n",
              "646             1                1                1             1   \n",
              "92              1                1                2             2   \n",
              "818             1                2                2             1   \n",
              "302             1                1                1             1   \n",
              "1259            2                1                2             2   \n",
              "\n",
              "      WalkingDistanceFromMainRoad  \n",
              "646                            21  \n",
              "92                             11  \n",
              "818                             6  \n",
              "302                            21  \n",
              "1259                            2  "
            ],
            "text/html": [
              "\n",
              "  <div id=\"df-07ab3358-a0b4-4d61-8faf-49e472c3a326\">\n",
              "    <div class=\"colab-df-container\">\n",
              "      <div>\n",
              "<style scoped>\n",
              "    .dataframe tbody tr th:only-of-type {\n",
              "        vertical-align: middle;\n",
              "    }\n",
              "\n",
              "    .dataframe tbody tr th {\n",
              "        vertical-align: top;\n",
              "    }\n",
              "\n",
              "    .dataframe thead th {\n",
              "        text-align: right;\n",
              "    }\n",
              "</style>\n",
              "<table border=\"1\" class=\"dataframe\">\n",
              "  <thead>\n",
              "    <tr style=\"text-align: right;\">\n",
              "      <th></th>\n",
              "      <th>Area</th>\n",
              "      <th>FlatSize</th>\n",
              "      <th>NearbyBazar</th>\n",
              "      <th>FloorNumber</th>\n",
              "      <th>TotalBedrooms</th>\n",
              "      <th>AttachedWashrooms</th>\n",
              "      <th>TotalBalconies</th>\n",
              "      <th>FloorType</th>\n",
              "      <th>GarrageFacilities</th>\n",
              "      <th>LiftService</th>\n",
              "      <th>GasAvailability</th>\n",
              "      <th>SecurityService</th>\n",
              "      <th>CCTVCoverage</th>\n",
              "      <th>WalkingDistanceFromMainRoad</th>\n",
              "    </tr>\n",
              "  </thead>\n",
              "  <tbody>\n",
              "    <tr>\n",
              "      <th>646</th>\n",
              "      <td>1</td>\n",
              "      <td>1380</td>\n",
              "      <td>1</td>\n",
              "      <td>6</td>\n",
              "      <td>3</td>\n",
              "      <td>2</td>\n",
              "      <td>2</td>\n",
              "      <td>1</td>\n",
              "      <td>1</td>\n",
              "      <td>1</td>\n",
              "      <td>1</td>\n",
              "      <td>1</td>\n",
              "      <td>1</td>\n",
              "      <td>21</td>\n",
              "    </tr>\n",
              "    <tr>\n",
              "      <th>92</th>\n",
              "      <td>2</td>\n",
              "      <td>900</td>\n",
              "      <td>2</td>\n",
              "      <td>6</td>\n",
              "      <td>2</td>\n",
              "      <td>1</td>\n",
              "      <td>2</td>\n",
              "      <td>1</td>\n",
              "      <td>2</td>\n",
              "      <td>1</td>\n",
              "      <td>1</td>\n",
              "      <td>2</td>\n",
              "      <td>2</td>\n",
              "      <td>11</td>\n",
              "    </tr>\n",
              "    <tr>\n",
              "      <th>818</th>\n",
              "      <td>1</td>\n",
              "      <td>1616</td>\n",
              "      <td>2</td>\n",
              "      <td>7</td>\n",
              "      <td>3</td>\n",
              "      <td>2</td>\n",
              "      <td>2</td>\n",
              "      <td>2</td>\n",
              "      <td>2</td>\n",
              "      <td>1</td>\n",
              "      <td>2</td>\n",
              "      <td>2</td>\n",
              "      <td>1</td>\n",
              "      <td>6</td>\n",
              "    </tr>\n",
              "    <tr>\n",
              "      <th>302</th>\n",
              "      <td>3</td>\n",
              "      <td>1150</td>\n",
              "      <td>1</td>\n",
              "      <td>5</td>\n",
              "      <td>3</td>\n",
              "      <td>2</td>\n",
              "      <td>2</td>\n",
              "      <td>1</td>\n",
              "      <td>2</td>\n",
              "      <td>1</td>\n",
              "      <td>1</td>\n",
              "      <td>1</td>\n",
              "      <td>1</td>\n",
              "      <td>21</td>\n",
              "    </tr>\n",
              "    <tr>\n",
              "      <th>1259</th>\n",
              "      <td>4</td>\n",
              "      <td>1050</td>\n",
              "      <td>2</td>\n",
              "      <td>1</td>\n",
              "      <td>3</td>\n",
              "      <td>1</td>\n",
              "      <td>2</td>\n",
              "      <td>1</td>\n",
              "      <td>2</td>\n",
              "      <td>2</td>\n",
              "      <td>1</td>\n",
              "      <td>2</td>\n",
              "      <td>2</td>\n",
              "      <td>2</td>\n",
              "    </tr>\n",
              "  </tbody>\n",
              "</table>\n",
              "</div>\n",
              "      <button class=\"colab-df-convert\" onclick=\"convertToInteractive('df-07ab3358-a0b4-4d61-8faf-49e472c3a326')\"\n",
              "              title=\"Convert this dataframe to an interactive table.\"\n",
              "              style=\"display:none;\">\n",
              "        \n",
              "  <svg xmlns=\"http://www.w3.org/2000/svg\" height=\"24px\"viewBox=\"0 0 24 24\"\n",
              "       width=\"24px\">\n",
              "    <path d=\"M0 0h24v24H0V0z\" fill=\"none\"/>\n",
              "    <path d=\"M18.56 5.44l.94 2.06.94-2.06 2.06-.94-2.06-.94-.94-2.06-.94 2.06-2.06.94zm-11 1L8.5 8.5l.94-2.06 2.06-.94-2.06-.94L8.5 2.5l-.94 2.06-2.06.94zm10 10l.94 2.06.94-2.06 2.06-.94-2.06-.94-.94-2.06-.94 2.06-2.06.94z\"/><path d=\"M17.41 7.96l-1.37-1.37c-.4-.4-.92-.59-1.43-.59-.52 0-1.04.2-1.43.59L10.3 9.45l-7.72 7.72c-.78.78-.78 2.05 0 2.83L4 21.41c.39.39.9.59 1.41.59.51 0 1.02-.2 1.41-.59l7.78-7.78 2.81-2.81c.8-.78.8-2.07 0-2.86zM5.41 20L4 18.59l7.72-7.72 1.47 1.35L5.41 20z\"/>\n",
              "  </svg>\n",
              "      </button>\n",
              "      \n",
              "  <style>\n",
              "    .colab-df-container {\n",
              "      display:flex;\n",
              "      flex-wrap:wrap;\n",
              "      gap: 12px;\n",
              "    }\n",
              "\n",
              "    .colab-df-convert {\n",
              "      background-color: #E8F0FE;\n",
              "      border: none;\n",
              "      border-radius: 50%;\n",
              "      cursor: pointer;\n",
              "      display: none;\n",
              "      fill: #1967D2;\n",
              "      height: 32px;\n",
              "      padding: 0 0 0 0;\n",
              "      width: 32px;\n",
              "    }\n",
              "\n",
              "    .colab-df-convert:hover {\n",
              "      background-color: #E2EBFA;\n",
              "      box-shadow: 0px 1px 2px rgba(60, 64, 67, 0.3), 0px 1px 3px 1px rgba(60, 64, 67, 0.15);\n",
              "      fill: #174EA6;\n",
              "    }\n",
              "\n",
              "    [theme=dark] .colab-df-convert {\n",
              "      background-color: #3B4455;\n",
              "      fill: #D2E3FC;\n",
              "    }\n",
              "\n",
              "    [theme=dark] .colab-df-convert:hover {\n",
              "      background-color: #434B5C;\n",
              "      box-shadow: 0px 1px 3px 1px rgba(0, 0, 0, 0.15);\n",
              "      filter: drop-shadow(0px 1px 2px rgba(0, 0, 0, 0.3));\n",
              "      fill: #FFFFFF;\n",
              "    }\n",
              "  </style>\n",
              "\n",
              "      <script>\n",
              "        const buttonEl =\n",
              "          document.querySelector('#df-07ab3358-a0b4-4d61-8faf-49e472c3a326 button.colab-df-convert');\n",
              "        buttonEl.style.display =\n",
              "          google.colab.kernel.accessAllowed ? 'block' : 'none';\n",
              "\n",
              "        async function convertToInteractive(key) {\n",
              "          const element = document.querySelector('#df-07ab3358-a0b4-4d61-8faf-49e472c3a326');\n",
              "          const dataTable =\n",
              "            await google.colab.kernel.invokeFunction('convertToInteractive',\n",
              "                                                     [key], {});\n",
              "          if (!dataTable) return;\n",
              "\n",
              "          const docLinkHtml = 'Like what you see? Visit the ' +\n",
              "            '<a target=\"_blank\" href=https://colab.research.google.com/notebooks/data_table.ipynb>data table notebook</a>'\n",
              "            + ' to learn more about interactive tables.';\n",
              "          element.innerHTML = '';\n",
              "          dataTable['output_type'] = 'display_data';\n",
              "          await google.colab.output.renderOutput(dataTable, element);\n",
              "          const docLink = document.createElement('div');\n",
              "          docLink.innerHTML = docLinkHtml;\n",
              "          element.appendChild(docLink);\n",
              "        }\n",
              "      </script>\n",
              "    </div>\n",
              "  </div>\n",
              "  "
            ]
          },
          "metadata": {},
          "execution_count": 19
        }
      ]
    },
    {
      "cell_type": "code",
      "source": [
        "mat = X_train.corr()"
      ],
      "metadata": {
        "id": "FC_koKhADImg"
      },
      "execution_count": null,
      "outputs": []
    },
    {
      "cell_type": "code",
      "source": [
        "mtp.figure(figsize=(14,8))\n",
        "sns.heatmap(mat,annot=True)\n",
        "mtp.show()"
      ],
      "metadata": {
        "colab": {
          "base_uri": "https://localhost:8080/",
          "height": 634
        },
        "id": "drbDGUXUDZC5",
        "outputId": "a4b350ee-c33b-4993-c6ea-145a2b8f5e18"
      },
      "execution_count": null,
      "outputs": [
        {
          "output_type": "display_data",
          "data": {
            "text/plain": [
              "<Figure size 1008x576 with 2 Axes>"
            ],
            "image/png": "[encoded data removed]"
          },
          "metadata": {
            "needs_background": "light"
          }
        }
      ]
    },
    {
      "cell_type": "code",
      "source": [
        "X_test.head()"
      ],
      "metadata": {
        "colab": {
          "base_uri": "https://localhost:8080/",
          "height": 206
        },
        "id": "V8VZVjkP2gpm",
        "outputId": "f6f5a2c3-c677-4877-a2df-360a8bd996f0"
      },
      "execution_count": null,
      "outputs": [
        {
          "output_type": "execute_result",
          "data": {
            "text/plain": [
              "     Area  FlatSize  NearbyBazar  FloorNumber  TotalBedrooms  \\\n",
              "530     5      1500            2            1              3   \n",
              "657    13      1600            1            3              3   \n",
              "459    20      1550            1           10              3   \n",
              "279    10      1580            1            6              3   \n",
              "656    14      1580            1            9              3   \n",
              "\n",
              "     AttachedWashrooms  TotalBalconies  FloorType  GarrageFacilities  \\\n",
              "530                  2               2          2                  2   \n",
              "657                  2               3          1                  1   \n",
              "459                  2               2          1                  2   \n",
              "279                  2               2          2                  2   \n",
              "656                  3               2          1                  1   \n",
              "\n",
              "     LiftService  GasAvailability  SecurityService  CCTVCoverage  \\\n",
              "530            2                1                1             1   \n",
              "657            2                1                1             2   \n",
              "459            1                1                1             1   \n",
              "279            2                2                2             2   \n",
              "656            1                2                1             1   \n",
              "\n",
              "     WalkingDistanceFromMainRoad  \n",
              "530                            0  \n",
              "657                            7  \n",
              "459                           26  \n",
              "279                           11  \n",
              "656                           26  "
            ],
            "text/html": [
              "\n",
              "  <div id=\"df-3d058c3a-4298-4f3a-a2f4-8fdfdb6a5463\">\n",
              "    <div class=\"colab-df-container\">\n",
              "      <div>\n",
              "<style scoped>\n",
              "    .dataframe tbody tr th:only-of-type {\n",
              "        vertical-align: middle;\n",
              "    }\n",
              "\n",
              "    .dataframe tbody tr th {\n",
              "        vertical-align: top;\n",
              "    }\n",
              "\n",
              "    .dataframe thead th {\n",
              "        text-align: right;\n",
              "    }\n",
              "</style>\n",
              "<table border=\"1\" class=\"dataframe\">\n",
              "  <thead>\n",
              "    <tr style=\"text-align: right;\">\n",
              "      <th></th>\n",
              "      <th>Area</th>\n",
              "      <th>FlatSize</th>\n",
              "      <th>NearbyBazar</th>\n",
              "      <th>FloorNumber</th>\n",
              "      <th>TotalBedrooms</th>\n",
              "      <th>AttachedWashrooms</th>\n",
              "      <th>TotalBalconies</th>\n",
              "      <th>FloorType</th>\n",
              "      <th>GarrageFacilities</th>\n",
              "      <th>LiftService</th>\n",
              "      <th>GasAvailability</th>\n",
              "      <th>SecurityService</th>\n",
              "      <th>CCTVCoverage</th>\n",
              "      <th>WalkingDistanceFromMainRoad</th>\n",
              "    </tr>\n",
              "  </thead>\n",
              "  <tbody>\n",
              "    <tr>\n",
              "      <th>530</th>\n",
              "      <td>5</td>\n",
              "      <td>1500</td>\n",
              "      <td>2</td>\n",
              "      <td>1</td>\n",
              "      <td>3</td>\n",
              "      <td>2</td>\n",
              "      <td>2</td>\n",
              "      <td>2</td>\n",
              "      <td>2</td>\n",
              "      <td>2</td>\n",
              "      <td>1</td>\n",
              "      <td>1</td>\n",
              "      <td>1</td>\n",
              "      <td>0</td>\n",
              "    </tr>\n",
              "    <tr>\n",
              "      <th>657</th>\n",
              "      <td>13</td>\n",
              "      <td>1600</td>\n",
              "      <td>1</td>\n",
              "      <td>3</td>\n",
              "      <td>3</td>\n",
              "      <td>2</td>\n",
              "      <td>3</td>\n",
              "      <td>1</td>\n",
              "      <td>1</td>\n",
              "      <td>2</td>\n",
              "      <td>1</td>\n",
              "      <td>1</td>\n",
              "      <td>2</td>\n",
              "      <td>7</td>\n",
              "    </tr>\n",
              "    <tr>\n",
              "      <th>459</th>\n",
              "      <td>20</td>\n",
              "      <td>1550</td>\n",
              "      <td>1</td>\n",
              "      <td>10</td>\n",
              "      <td>3</td>\n",
              "      <td>2</td>\n",
              "      <td>2</td>\n",
              "      <td>1</td>\n",
              "      <td>2</td>\n",
              "      <td>1</td>\n",
              "      <td>1</td>\n",
              "      <td>1</td>\n",
              "      <td>1</td>\n",
              "      <td>26</td>\n",
              "    </tr>\n",
              "    <tr>\n",
              "      <th>279</th>\n",
              "      <td>10</td>\n",
              "      <td>1580</td>\n",
              "      <td>1</td>\n",
              "      <td>6</td>\n",
              "      <td>3</td>\n",
              "      <td>2</td>\n",
              "      <td>2</td>\n",
              "      <td>2</td>\n",
              "      <td>2</td>\n",
              "      <td>2</td>\n",
              "      <td>2</td>\n",
              "      <td>2</td>\n",
              "      <td>2</td>\n",
              "      <td>11</td>\n",
              "    </tr>\n",
              "    <tr>\n",
              "      <th>656</th>\n",
              "      <td>14</td>\n",
              "      <td>1580</td>\n",
              "      <td>1</td>\n",
              "      <td>9</td>\n",
              "      <td>3</td>\n",
              "      <td>3</td>\n",
              "      <td>2</td>\n",
              "      <td>1</td>\n",
              "      <td>1</td>\n",
              "      <td>1</td>\n",
              "      <td>2</td>\n",
              "      <td>1</td>\n",
              "      <td>1</td>\n",
              "      <td>26</td>\n",
              "    </tr>\n",
              "  </tbody>\n",
              "</table>\n",
              "</div>\n",
              "      <button class=\"colab-df-convert\" onclick=\"convertToInteractive('df-3d058c3a-4298-4f3a-a2f4-8fdfdb6a5463')\"\n",
              "              title=\"Convert this dataframe to an interactive table.\"\n",
              "              style=\"display:none;\">\n",
              "        \n",
              "  <svg xmlns=\"http://www.w3.org/2000/svg\" height=\"24px\"viewBox=\"0 0 24 24\"\n",
              "       width=\"24px\">\n",
              "    <path d=\"M0 0h24v24H0V0z\" fill=\"none\"/>\n",
              "    <path d=\"M18.56 5.44l.94 2.06.94-2.06 2.06-.94-2.06-.94-.94-2.06-.94 2.06-2.06.94zm-11 1L8.5 8.5l.94-2.06 2.06-.94-2.06-.94L8.5 2.5l-.94 2.06-2.06.94zm10 10l.94 2.06.94-2.06 2.06-.94-2.06-.94-.94-2.06-.94 2.06-2.06.94z\"/><path d=\"M17.41 7.96l-1.37-1.37c-.4-.4-.92-.59-1.43-.59-.52 0-1.04.2-1.43.59L10.3 9.45l-7.72 7.72c-.78.78-.78 2.05 0 2.83L4 21.41c.39.39.9.59 1.41.59.51 0 1.02-.2 1.41-.59l7.78-7.78 2.81-2.81c.8-.78.8-2.07 0-2.86zM5.41 20L4 18.59l7.72-7.72 1.47 1.35L5.41 20z\"/>\n",
              "  </svg>\n",
              "      </button>\n",
              "      \n",
              "  <style>\n",
              "    .colab-df-container {\n",
              "      display:flex;\n",
              "      flex-wrap:wrap;\n",
              "      gap: 12px;\n",
              "    }\n",
              "\n",
              "    .colab-df-convert {\n",
              "      background-color: #E8F0FE;\n",
              "      border: none;\n",
              "      border-radius: 50%;\n",
              "      cursor: pointer;\n",
              "      display: none;\n",
              "      fill: #1967D2;\n",
              "      height: 32px;\n",
              "      padding: 0 0 0 0;\n",
              "      width: 32px;\n",
              "    }\n",
              "\n",
              "    .colab-df-convert:hover {\n",
              "      background-color: #E2EBFA;\n",
              "      box-shadow: 0px 1px 2px rgba(60, 64, 67, 0.3), 0px 1px 3px 1px rgba(60, 64, 67, 0.15);\n",
              "      fill: #174EA6;\n",
              "    }\n",
              "\n",
              "    [theme=dark] .colab-df-convert {\n",
              "      background-color: #3B4455;\n",
              "      fill: #D2E3FC;\n",
              "    }\n",
              "\n",
              "    [theme=dark] .colab-df-convert:hover {\n",
              "      background-color: #434B5C;\n",
              "      box-shadow: 0px 1px 3px 1px rgba(0, 0, 0, 0.15);\n",
              "      filter: drop-shadow(0px 1px 2px rgba(0, 0, 0, 0.3));\n",
              "      fill: #FFFFFF;\n",
              "    }\n",
              "  </style>\n",
              "\n",
              "      <script>\n",
              "        const buttonEl =\n",
              "          document.querySelector('#df-3d058c3a-4298-4f3a-a2f4-8fdfdb6a5463 button.colab-df-convert');\n",
              "        buttonEl.style.display =\n",
              "          google.colab.kernel.accessAllowed ? 'block' : 'none';\n",
              "\n",
              "        async function convertToInteractive(key) {\n",
              "          const element = document.querySelector('#df-3d058c3a-4298-4f3a-a2f4-8fdfdb6a5463');\n",
              "          const dataTable =\n",
              "            await google.colab.kernel.invokeFunction('convertToInteractive',\n",
              "                                                     [key], {});\n",
              "          if (!dataTable) return;\n",
              "\n",
              "          const docLinkHtml = 'Like what you see? Visit the ' +\n",
              "            '<a target=\"_blank\" href=https://colab.research.google.com/notebooks/data_table.ipynb>data table notebook</a>'\n",
              "            + ' to learn more about interactive tables.';\n",
              "          element.innerHTML = '';\n",
              "          dataTable['output_type'] = 'display_data';\n",
              "          await google.colab.output.renderOutput(dataTable, element);\n",
              "          const docLink = document.createElement('div');\n",
              "          docLink.innerHTML = docLinkHtml;\n",
              "          element.appendChild(docLink);\n",
              "        }\n",
              "      </script>\n",
              "    </div>\n",
              "  </div>\n",
              "  "
            ]
          },
          "metadata": {},
          "execution_count": 22
        }
      ]
    },
    {
      "cell_type": "code",
      "source": [
        "from sklearn.metrics import mean_absolute_error\n",
        "from sklearn.metrics import mean_absolute_percentage_error\n",
        "from sklearn.metrics import mean_squared_error\n",
        "import sklearn.metrics as sm"
      ],
      "metadata": {
        "id": "y1Zl8h5kLyql"
      },
      "execution_count": null,
      "outputs": []
    },
    {
      "cell_type": "markdown",
      "source": [
        "Linear Regression"
      ],
      "metadata": {
        "id": "MyRTlSwcO3r0"
      }
    },
    {
      "cell_type": "code",
      "source": [
        "#Fitting the MLR model to the training set:  \n",
        "from sklearn.linear_model import LinearRegression  \n",
        "regressor= LinearRegression()  \n",
        "regressor.fit(X_train, y_train)  "
      ],
      "metadata": {
        "colab": {
          "base_uri": "https://localhost:8080/"
        },
        "id": "96tUz3dCDez1",
        "outputId": "427b91fc-626d-4e36-fbd3-3da272e2b5f1"
      },
      "execution_count": null,
      "outputs": [
        {
          "output_type": "execute_result",
          "data": {
            "text/plain": [
              "LinearRegression()"
            ]
          },
          "metadata": {},
          "execution_count": 24
        }
      ]
    },
    {
      "cell_type": "code",
      "source": [
        "#Predicting the Test set result;  \n",
        "y_pred= regressor.predict(X_test)  \n",
        "print(y_pred)"
      ],
      "metadata": {
        "colab": {
          "base_uri": "https://localhost:8080/"
        },
        "id": "ePTKdZ1NOGsu",
        "outputId": "151ed1b0-b501-4896-fb76-abd0d6809328"
      },
      "execution_count": null,
      "outputs": [
        {
          "output_type": "stream",
          "name": "stdout",
          "text": [
            "[30302.66796917 31976.97919055 31060.7808094  31858.89071749\n",
            " 31433.77507053 25967.79965139 22354.48184506 28039.40361487\n",
            " 22633.86400495 26864.3907933  28188.18291574 27322.91154082\n",
            " 29561.88522396 32593.78361195 27859.05777699 15998.43463826\n",
            " 17721.7439518  36552.0842994  17418.76593645 23156.32819061\n",
            " 26893.06494886 21427.89162997 27452.15376926 34990.04857862\n",
            " 31977.35104525 27685.69619157 31306.05809762 30101.19396568\n",
            " 24393.05813322 20582.46661647 32393.25160145 17777.04334338\n",
            " 31948.26007318 27112.633601   33078.4881666  21035.32497374\n",
            " 32915.02420769 27139.84361943 16903.00320902 29158.49251396\n",
            " 20673.28333318 21426.7297964  32078.18297091 34011.71429526\n",
            " 29173.79473618 35129.35236567 16708.29067736 27314.07619789\n",
            " 29424.43679204 32333.62463762 20763.08521885 36672.38035097\n",
            " 25843.62944868 23681.7497286  27855.16577463 30252.83903124\n",
            " 26018.37428397 24865.24478342 18074.47245317 15578.98973795\n",
            " 25296.33958529 22245.56729248 17603.54532986 18022.46190668\n",
            " 16780.05502873 17815.79933425 16543.4728532  31821.5421306\n",
            " 32821.78487611 20542.99309447 34277.74955381 25127.18764599\n",
            " 29435.20916733 27716.94713953 21995.19729673 27700.49787975\n",
            " 34377.85354439 32357.53514181 33930.49195563 34485.20186394\n",
            " 24874.44675524 32486.90641378 26467.47878686 28067.5272739\n",
            " 33461.54204944 32090.79239602 31936.62680001 26535.82760385\n",
            " 23971.06508327 32962.92931302 27144.39881758 32574.69872015\n",
            " 28928.92301178 31191.08509797 25572.22785806 15575.80573545\n",
            " 36609.46756614 18818.24458191 27171.44690249 30218.48369941\n",
            " 16963.43080998 24189.89937444 27909.84155297 21846.42720796\n",
            " 24209.87491401 33444.12061001 21131.94085799 22830.69187957\n",
            " 22989.51423957 34258.56129523 32128.36750681 36547.70155136\n",
            " 26889.47684342 29263.52550564 29164.36824389 27458.88686075\n",
            " 32696.54685496 31452.11631467 31635.09061436 34275.36939885\n",
            " 35298.18926752 32570.67747124 31470.27208517 32107.63469582\n",
            " 29011.70976969 23659.65864596 32202.32911882 30501.54549517\n",
            " 29160.75772266 26469.93688141 23928.95746231 30362.22426423\n",
            " 25122.10585532 16561.36448595 17834.95531809 22140.01587437\n",
            " 30251.20854835 28974.23088131 29181.41225221 16657.9003965\n",
            " 31634.00851329 16821.51902755 35505.010184   30448.94479345\n",
            " 23921.78732693 25920.32106727 21531.94157015 32315.01119857\n",
            " 21031.5344169  27368.58296106 30807.91696754 33362.56326403\n",
            " 27339.18075362 23652.5136461  16926.42009122 18922.44771332\n",
            " 17814.0947218  27887.90977862 28184.77340092 28404.82189298\n",
            " 17799.66122937 31035.04512188 33454.32046063 21846.64543868\n",
            " 21018.34757681 24156.32903327 31941.06246816 32330.82842829\n",
            " 20139.73433505 27969.90184686 35325.06979917 18958.24179877\n",
            " 17836.5411376  21913.22160155 19516.90270076 32516.93432372\n",
            " 19142.22739619 16956.90516757 25038.62603508 24076.74288699\n",
            " 19611.96130894 34680.19436613 20984.49245218 19340.75923578\n",
            " 28285.34271195 23234.67117838 16818.10711338 32167.59225201\n",
            " 27242.41255106 19782.94989245 31187.22573182 17100.93038145\n",
            " 34360.4129234  32061.47596679 32475.50005673 20633.2514229\n",
            " 29405.25503519 19939.16216272 15871.7152785  29031.47034154\n",
            " 22313.9082607  34168.01378699 20615.73260223 35145.8985417\n",
            " 22291.3969019  26174.81593544 28420.95783085 26117.0800941\n",
            " 19970.5045046  31047.59080201 32679.2906939  31893.82867107\n",
            " 31782.60206438 22302.63659319 16937.27312734 15696.9198792\n",
            " 35998.59495465 25657.92772267 26248.95803664 36333.05826667\n",
            " 28071.81060792 18933.04929768 35402.14053646 30312.6489468\n",
            " 21000.16824803 27239.31419429 26328.68886489 21560.45503199\n",
            " 25972.68523375 33516.57165254 36342.64147374 24194.43948094\n",
            " 17103.92001652 27772.38609934 19960.88811125 21194.50398606\n",
            " 17879.47653633 16568.96973552 27762.23644935 20422.89374906\n",
            " 31476.89223912 27686.31889515 34541.858047   29082.45617062\n",
            " 31511.6485721  32256.16383446 32779.05930093 17897.83227071\n",
            " 24996.87671103 34439.87625043 28288.04472098 22612.94851566\n",
            " 35741.96059088 36452.25405228 33217.21601326 34404.23376603\n",
            " 20085.88899129 31047.20950485 31336.45206775 18955.11191138\n",
            " 32286.94788121 24064.11904856 25117.53389685 29278.48182969\n",
            " 27671.9018598  30172.12547601 34655.82060503 30025.07755605\n",
            " 18851.36822328 27702.53347258 36488.35504694 23016.63191127\n",
            " 34482.85809355 33286.5716814  21561.3329632  21870.43256696\n",
            " 29421.90996289 36332.35399389 28050.54452448 27891.73200355\n",
            " 36172.02076136 23816.87776149 27932.63602834 20923.91122757\n",
            " 20428.55084565 25101.88927023 28116.48747916 26412.15165015\n",
            " 22102.31650995 20231.21694747 18736.93546404 27304.68059383\n",
            " 27679.5823907 ]\n"
          ]
        }
      ]
    },
    {
      "cell_type": "code",
      "source": [
        "print(\"mean absolute error = \",round(mean_absolute_error(y_test, y_pred),4))\n",
        "print(\"Explain variance score =\", round(sm.explained_variance_score(y_test, y_pred), 4)) \n",
        "print(\"R2 score =\", round(sm.r2_score(y_test, y_pred), 4))\n",
        "print(\"mean absolute percentage error = \",round(mean_absolute_percentage_error(y_test, y_pred),4))\n",
        "print(\"mean squared error = \",round(mean_squared_error(y_test,y_pred),4))"
      ],
      "metadata": {
        "colab": {
          "base_uri": "https://localhost:8080/"
        },
        "id": "P4GvCwczOOtq",
        "outputId": "e60995e9-6de2-46f0-ecf5-e7a40add9da2"
      },
      "execution_count": null,
      "outputs": [
        {
          "output_type": "stream",
          "name": "stdout",
          "text": [
            "mean absolute error =  478.3688\n",
            "Explain variance score = 0.9295\n",
            "R2 score = 0.9295\n",
            "mean absolute percentage error =  0.0149\n",
            "mean squared error =  2577281.5513\n"
          ]
        }
      ]
    },
    {
      "cell_type": "markdown",
      "source": [
        "Lasso"
      ],
      "metadata": {
        "id": "UqjjGvyAcjUb"
      }
    },
    {
      "cell_type": "code",
      "source": [
        "#Fitting the MLR model to the training set:  \n",
        "from sklearn.linear_model import Lasso  \n",
        "regressor= Lasso()  \n",
        "regressor.fit(X_train, y_train) "
      ],
      "metadata": {
        "colab": {
          "base_uri": "https://localhost:8080/"
        },
        "id": "r2IjYvVSaoUa",
        "outputId": "38b84c1e-0acb-47a2-edba-825e8017d3b6"
      },
      "execution_count": null,
      "outputs": [
        {
          "output_type": "execute_result",
          "data": {
            "text/plain": [
              "Lasso()"
            ]
          },
          "metadata": {},
          "execution_count": 27
        }
      ]
    },
    {
      "cell_type": "code",
      "source": [
        "#Predicting the Test set result;  \n",
        "y_pred_lasso= regressor.predict(X_test)  \n",
        "print(y_pred_lasso)"
      ],
      "metadata": {
        "colab": {
          "base_uri": "https://localhost:8080/"
        },
        "id": "s4HV1aKMa1cP",
        "outputId": "d27b06e0-765e-42be-fd8e-ae37252a0343"
      },
      "execution_count": null,
      "outputs": [
        {
          "output_type": "stream",
          "name": "stdout",
          "text": [
            "[30296.2083786  31989.3372648  31058.3418897  31860.93748099\n",
            " 31449.56315333 25975.59210668 22343.45437306 28041.92770577\n",
            " 22648.1527827  26865.06708324 28196.25739078 27314.87829292\n",
            " 29554.83727294 32591.51956834 27863.04182412 15993.40564731\n",
            " 17733.9611878  36549.31524668 17431.516231   23155.58726327\n",
            " 26897.30010056 21444.74187375 27446.80814945 34992.98775588\n",
            " 31979.67804076 27685.47053304 31310.66406195 30112.78802013\n",
            " 24384.03564894 20597.98931088 32397.92578844 17776.48144096\n",
            " 31944.58298727 27119.47488298 33079.26387955 21037.03747803\n",
            " 32908.53791135 27141.27593319 16903.14658437 29148.53416661\n",
            " 20681.74235407 21403.15554509 32080.22362867 34014.88020467\n",
            " 29170.04591911 35135.76513985 16715.44842135 27306.30020184\n",
            " 29420.15393314 32339.95663037 20765.44047915 36665.38765076\n",
            " 25862.92391675 23692.79895526 27848.20464218 30252.31804716\n",
            " 26011.97519564 24872.71512096 18071.97795777 15576.26412421\n",
            " 25283.54454507 22236.3037661  17611.31553451 18017.95417696\n",
            " 16774.41878353 17805.50103346 16542.79653129 31820.37588281\n",
            " 32810.52592053 20559.0858474  34273.96505908 25122.95523478\n",
            " 29426.76113015 27720.36410901 21988.46942337 27696.54950299\n",
            " 34368.51795197 32365.40055509 33932.7986273  34480.64567257\n",
            " 24873.14034747 32483.0207356  26464.49115094 28063.87268483\n",
            " 33456.30721228 32097.09764722 31933.82244318 26524.36758324\n",
            " 23963.70125649 32956.06183514 27144.58761615 32576.94116173\n",
            " 28932.00307043 31184.26204412 25582.67559836 15580.19370669\n",
            " 36603.01559295 18816.63654635 27182.76811391 30212.56648271\n",
            " 16955.90324012 24186.3068455  27909.87426848 21846.96313595\n",
            " 24194.28244753 33443.04360158 21120.30552334 22843.71606677\n",
            " 22991.7570418  34260.48475129 32120.89871339 36545.3742105\n",
            " 26889.22464691 29258.78367802 29157.97771461 27439.93312788\n",
            " 32688.95908086 31454.56868375 31634.09152918 34276.56004858\n",
            " 35309.21699376 32575.24212874 31485.51533998 32097.43251664\n",
            " 29020.87739555 23659.23675247 32206.80992433 30497.92295384\n",
            " 29165.69792833 26462.93782558 23931.49980319 30359.76215131\n",
            " 25116.28403643 16573.90001501 17825.9798539  22134.02812723\n",
            " 30248.30895459 28977.67993748 29178.713734   16663.2989698\n",
            " 31639.58930385 16818.26949895 35495.92946846 30436.80381917\n",
            " 23930.52890287 25924.50258532 21553.18854728 32328.47635892\n",
            " 21028.65136702 27373.77815997 30824.56137388 33358.46408103\n",
            " 27334.52573748 23656.6212367  16919.96052269 18915.77459441\n",
            " 17823.52162929 27887.23192157 28185.65529213 28394.63434254\n",
            " 17803.42220928 31044.01828911 33451.90276584 21846.44743259\n",
            " 21011.92500349 24155.80818829 31952.33669005 32321.23489562\n",
            " 20125.8562612  27967.47820223 35321.31609328 18945.75454699\n",
            " 17845.76684293 21912.01996355 19536.70121844 32514.36388401\n",
            " 19133.43147624 16960.21694617 25039.59705186 24074.39826262\n",
            " 19629.38313319 34682.90234035 20975.56366662 19356.24085312\n",
            " 28280.27402867 23234.60945266 16821.6690832  32160.51272084\n",
            " 27242.59149284 19794.44665317 31185.10831599 17098.83330753\n",
            " 34348.96641289 32054.81780558 32476.95396167 20644.47917474\n",
            " 29405.68843819 19938.59876882 15857.41097863 29030.98293132\n",
            " 22334.34242061 34165.71969563 20629.30864813 35155.94530254\n",
            " 22278.12023506 26170.43362329 28416.66000381 26123.16574054\n",
            " 19965.23338402 31050.14742414 32683.5024696  31893.8135198\n",
            " 31776.4291966  22283.46757021 16929.8112036  15685.42483754\n",
            " 36009.78397254 25662.31941761 26248.41957481 36335.67645311\n",
            " 28061.03187702 18927.45256173 35400.5538795  30308.70959022\n",
            " 20985.96323398 27234.8289521  26323.68120754 21578.24781319\n",
            " 25975.19442349 33509.67598964 36340.23531642 24192.74654817\n",
            " 17094.39165752 27763.21670427 19964.83962105 21199.8041912\n",
            " 17871.6818561  16578.46193847 27762.64199997 20441.4798523\n",
            " 31471.85910029 27689.74227095 34540.09683375 29079.7999089\n",
            " 31509.42747029 32268.2623725  32779.02682392 17891.98823359\n",
            " 25000.26780937 34445.09805563 28279.21957378 22636.46167886\n",
            " 35735.40124438 36450.53739451 33215.27733735 34414.08939689\n",
            " 20087.68696655 31057.59868866 31332.68624019 18950.41399632\n",
            " 32282.99512914 24059.57264063 25112.72517548 29279.46604936\n",
            " 27667.13087604 30178.1759313  34653.46339438 30024.9022259\n",
            " 18859.61604548 27702.243623   36487.96862297 23021.93939019\n",
            " 34479.71166915 33287.82852904 21582.13077037 21882.33293075\n",
            " 29425.34259788 36330.94886672 28054.33360626 27888.22070701\n",
            " 36171.7168241  23816.04574149 27920.68902422 20919.21780855\n",
            " 20438.7570507  25098.05031967 28113.95450202 26400.36662876\n",
            " 22092.73700156 20255.63970192 18742.06935564 27304.53024304\n",
            " 27686.14394206]\n"
          ]
        }
      ]
    },
    {
      "cell_type": "code",
      "source": [
        "print(\"mean absolute error = \",round(mean_absolute_error(y_test, y_pred_lasso),4))\n",
        "print(\"Explain variance score =\", round(sm.explained_variance_score(y_test, y_pred_lasso), 4)) \n",
        "print(\"R2 score =\", round(sm.r2_score(y_test, y_pred_lasso), 4))\n",
        "print(\"mean absolute percentage error = \",round(mean_absolute_percentage_error(y_test, y_pred_lasso),4))\n",
        "print(\"mean squared error = \",round(mean_squared_error(y_test,y_pred_lasso),4))"
      ],
      "metadata": {
        "colab": {
          "base_uri": "https://localhost:8080/"
        },
        "id": "oc1_hhavbBBk",
        "outputId": "ade00a4b-5e2f-4987-9750-1b839518ba50"
      },
      "execution_count": null,
      "outputs": [
        {
          "output_type": "stream",
          "name": "stdout",
          "text": [
            "mean absolute error =  475.7458\n",
            "Explain variance score = 0.9296\n",
            "R2 score = 0.9296\n",
            "mean absolute percentage error =  0.0148\n",
            "mean squared error =  2575245.92\n"
          ]
        }
      ]
    },
    {
      "cell_type": "markdown",
      "source": [
        "Decision Tree"
      ],
      "metadata": {
        "id": "St8YS5UON7XA"
      }
    },
    {
      "cell_type": "code",
      "source": [
        "#feature Scaling  \n",
        "from sklearn.preprocessing import StandardScaler    \n",
        "st_x= StandardScaler()  \n",
        "X_train= st_x.fit_transform(X_train)    \n",
        "X_test= st_x.transform(X_test) "
      ],
      "metadata": {
        "id": "b1jE8eTyKCLb"
      },
      "execution_count": null,
      "outputs": []
    },
    {
      "cell_type": "code",
      "source": [
        "#Fitting Decision Tree classifier to the training set  \n",
        "from sklearn.tree import DecisionTreeRegressor  \n",
        "classifier= DecisionTreeRegressor(max_depth=5)  \n",
        "classifier.fit(X_train, y_train)"
      ],
      "metadata": {
        "id": "QAWyxtYBI1xV",
        "colab": {
          "base_uri": "https://localhost:8080/"
        },
        "outputId": "ab9c68f5-77c1-42b6-fe23-1a4307fcd9db"
      },
      "execution_count": null,
      "outputs": [
        {
          "output_type": "execute_result",
          "data": {
            "text/plain": [
              "DecisionTreeRegressor(max_depth=5)"
            ]
          },
          "metadata": {},
          "execution_count": 31
        }
      ]
    },
    {
      "cell_type": "code",
      "source": [
        "#Predicting the test set result  \n",
        "y_pred_dt= classifier.predict(X_test)  \n",
        "print(y_pred_dt)"
      ],
      "metadata": {
        "id": "83xsSD0GJNC2",
        "colab": {
          "base_uri": "https://localhost:8080/"
        },
        "outputId": "66c1693a-185c-48fe-9f54-b61f64da3c26"
      },
      "execution_count": null,
      "outputs": [
        {
          "output_type": "stream",
          "name": "stdout",
          "text": [
            "[30000.         31665.07177033 31665.07177033 31665.07177033\n",
            " 31665.07177033 26000.         22000.         28000.\n",
            " 23000.         27000.         28000.         27000.\n",
            " 29000.         31665.07177033 28000.         16000.\n",
            " 18000.         32807.69230769 18000.         23000.\n",
            " 27000.         22000.         27000.         37431.03448276\n",
            " 31665.07177033 27441.86046512 31665.07177033 30000.\n",
            " 24000.         21000.         31665.07177033 18000.\n",
            " 31665.07177033 27000.         33448.27586207 21000.\n",
            " 31665.07177033 27000.         17000.         29000.\n",
            " 21000.         21000.         31665.07177033 33448.27586207\n",
            " 29000.         37431.03448276 17000.         27000.\n",
            " 29000.         31665.07177033 21000.         32807.69230769\n",
            " 26000.         24000.         28000.         30000.\n",
            " 26000.         25000.         18000.         16000.\n",
            " 25000.         22000.         18000.         18000.\n",
            " 17000.         18000.         17000.         31665.07177033\n",
            " 31665.07177033 21000.         33448.27586207 25000.\n",
            " 29000.         27441.86046512 22000.         27441.86046512\n",
            " 33448.27586207 31665.07177033 33448.27586207 33448.27586207\n",
            " 25000.         31665.07177033 26000.         28000.\n",
            " 33448.27586207 31665.07177033 31665.07177033 26000.\n",
            " 24000.         31665.07177033 27000.         31665.07177033\n",
            " 29000.         31665.07177033 26000.         16000.\n",
            " 37431.03448276 19000.         27000.         30000.\n",
            " 17000.         24000.         27441.86046512 22000.\n",
            " 24000.         33448.27586207 21000.         23000.\n",
            " 23000.         33448.27586207 31665.07177033 32807.69230769\n",
            " 27000.         29000.         29000.         27000.\n",
            " 31665.07177033 31665.07177033 31665.07177033 33448.27586207\n",
            " 37431.03448276 31665.07177033 31665.07177033 31665.07177033\n",
            " 29000.         24000.         31665.07177033 30000.\n",
            " 29000.         26000.         24000.         30000.\n",
            " 25000.         17000.         18000.         22000.\n",
            " 30000.         29000.         29000.         17000.\n",
            " 31665.07177033 17000.         37431.03448276 30000.\n",
            " 24000.         26000.         22000.         31665.07177033\n",
            " 21000.         27441.86046512 31665.07177033 33448.27586207\n",
            " 27000.         24000.         17000.         19000.\n",
            " 18000.         27441.86046512 28000.         28000.\n",
            " 18000.         31665.07177033 33448.27586207 22000.\n",
            " 21000.         24000.         31665.07177033 31665.07177033\n",
            " 20000.         28000.         32807.69230769 19000.\n",
            " 18000.         22000.         20000.         31665.07177033\n",
            " 19000.         17000.         25000.         24000.\n",
            " 20000.         33448.27586207 21000.         20000.\n",
            " 28000.         23000.         17000.         31665.07177033\n",
            " 27000.         20000.         31665.07177033 17000.\n",
            " 33448.27586207 31665.07177033 31665.07177033 21000.\n",
            " 29000.         20000.         16000.         29000.\n",
            " 23000.         33448.27586207 21000.         37431.03448276\n",
            " 22000.         26000.         28000.         26000.\n",
            " 20000.         31665.07177033 31665.07177033 31665.07177033\n",
            " 31665.07177033 22000.         17000.         16000.\n",
            " 37431.03448276 26000.         26000.         37431.03448276\n",
            " 28000.         19000.         37431.03448276 30000.\n",
            " 21000.         27000.         26000.         22000.\n",
            " 26000.         33448.27586207 37431.03448276 24000.\n",
            " 17000.         27441.86046512 20000.         21000.\n",
            " 18000.         17000.         28000.         21000.\n",
            " 31665.07177033 27441.86046512 33448.27586207 29000.\n",
            " 31665.07177033 31665.07177033 31665.07177033 18000.\n",
            " 25000.         33448.27586207 28000.         23000.\n",
            " 32807.69230769 37431.03448276 33448.27586207 33448.27586207\n",
            " 20000.         31665.07177033 31665.07177033 19000.\n",
            " 31665.07177033 24000.         25000.         29000.\n",
            " 27441.86046512 30000.         33448.27586207 30000.\n",
            " 19000.         27441.86046512 37431.03448276 23000.\n",
            " 33448.27586207 33448.27586207 22000.         22000.\n",
            " 29000.         32807.69230769 28000.         27441.86046512\n",
            " 37431.03448276 24000.         27441.86046512 21000.\n",
            " 21000.         25000.         28000.         26000.\n",
            " 22000.         21000.         19000.         27000.\n",
            " 28000.        ]\n"
          ]
        }
      ]
    },
    {
      "cell_type": "code",
      "source": [
        "print(\"mean absolute error = \",round(mean_absolute_error(y_test, y_pred_dt),4))\n",
        "print(\"Explain variance score =\", round(sm.explained_variance_score(y_test, y_pred_dt), 4)) \n",
        "print(\"R2 score =\", round(sm.r2_score(y_test, y_pred_dt), 4))\n",
        "print(\"mean absolute percentage error = \",round(mean_absolute_percentage_error(y_test, y_pred_dt),4))\n",
        "print(\"mean squared error = \",round(mean_squared_error(y_test,y_pred_dt),4))"
      ],
      "metadata": {
        "id": "TyAQqfcNJyl5",
        "colab": {
          "base_uri": "https://localhost:8080/"
        },
        "outputId": "725b024e-8b12-42a9-900f-ad1d1c95e60b"
      },
      "execution_count": null,
      "outputs": [
        {
          "output_type": "stream",
          "name": "stdout",
          "text": [
            "mean absolute error =  418.065\n",
            "Explain variance score = 0.9141\n",
            "R2 score = 0.9136\n",
            "mean absolute percentage error =  0.0108\n",
            "mean squared error =  3159873.0834\n"
          ]
        }
      ]
    },
    {
      "cell_type": "markdown",
      "source": [
        "Random Forest"
      ],
      "metadata": {
        "id": "QJ9-p4FiN_yC"
      }
    },
    {
      "cell_type": "code",
      "source": [
        "from sklearn.ensemble import RandomForestRegressor\n",
        "rf = RandomForestRegressor(n_estimators = 10, random_state = 0)\n",
        "# Fitting the Random Forest Regression model to the data\n",
        "rf.fit(X_train, y_train)\n",
        "pre = rf.predict(X_test)"
      ],
      "metadata": {
        "id": "KGW4zIZWf-Nv"
      },
      "execution_count": null,
      "outputs": []
    },
    {
      "cell_type": "code",
      "source": [
        "#Predicting the test set result  \n",
        "pre_rfc= classifier.predict(X_test)  \n",
        "print(pre_rfc)"
      ],
      "metadata": {
        "colab": {
          "base_uri": "https://localhost:8080/"
        },
        "id": "vKxZxoILbc-e",
        "outputId": "368fe217-9b3d-415b-c78b-96ced5e47d8f"
      },
      "execution_count": null,
      "outputs": [
        {
          "output_type": "stream",
          "name": "stdout",
          "text": [
            "[30000.         31665.07177033 31665.07177033 31665.07177033\n",
            " 31665.07177033 26000.         22000.         28000.\n",
            " 23000.         27000.         28000.         27000.\n",
            " 29000.         31665.07177033 28000.         16000.\n",
            " 18000.         32807.69230769 18000.         23000.\n",
            " 27000.         22000.         27000.         37431.03448276\n",
            " 31665.07177033 27441.86046512 31665.07177033 30000.\n",
            " 24000.         21000.         31665.07177033 18000.\n",
            " 31665.07177033 27000.         33448.27586207 21000.\n",
            " 31665.07177033 27000.         17000.         29000.\n",
            " 21000.         21000.         31665.07177033 33448.27586207\n",
            " 29000.         37431.03448276 17000.         27000.\n",
            " 29000.         31665.07177033 21000.         32807.69230769\n",
            " 26000.         24000.         28000.         30000.\n",
            " 26000.         25000.         18000.         16000.\n",
            " 25000.         22000.         18000.         18000.\n",
            " 17000.         18000.         17000.         31665.07177033\n",
            " 31665.07177033 21000.         33448.27586207 25000.\n",
            " 29000.         27441.86046512 22000.         27441.86046512\n",
            " 33448.27586207 31665.07177033 33448.27586207 33448.27586207\n",
            " 25000.         31665.07177033 26000.         28000.\n",
            " 33448.27586207 31665.07177033 31665.07177033 26000.\n",
            " 24000.         31665.07177033 27000.         31665.07177033\n",
            " 29000.         31665.07177033 26000.         16000.\n",
            " 37431.03448276 19000.         27000.         30000.\n",
            " 17000.         24000.         27441.86046512 22000.\n",
            " 24000.         33448.27586207 21000.         23000.\n",
            " 23000.         33448.27586207 31665.07177033 32807.69230769\n",
            " 27000.         29000.         29000.         27000.\n",
            " 31665.07177033 31665.07177033 31665.07177033 33448.27586207\n",
            " 37431.03448276 31665.07177033 31665.07177033 31665.07177033\n",
            " 29000.         24000.         31665.07177033 30000.\n",
            " 29000.         26000.         24000.         30000.\n",
            " 25000.         17000.         18000.         22000.\n",
            " 30000.         29000.         29000.         17000.\n",
            " 31665.07177033 17000.         37431.03448276 30000.\n",
            " 24000.         26000.         22000.         31665.07177033\n",
            " 21000.         27441.86046512 31665.07177033 33448.27586207\n",
            " 27000.         24000.         17000.         19000.\n",
            " 18000.         27441.86046512 28000.         28000.\n",
            " 18000.         31665.07177033 33448.27586207 22000.\n",
            " 21000.         24000.         31665.07177033 31665.07177033\n",
            " 20000.         28000.         32807.69230769 19000.\n",
            " 18000.         22000.         20000.         31665.07177033\n",
            " 19000.         17000.         25000.         24000.\n",
            " 20000.         33448.27586207 21000.         20000.\n",
            " 28000.         23000.         17000.         31665.07177033\n",
            " 27000.         20000.         31665.07177033 17000.\n",
            " 33448.27586207 31665.07177033 31665.07177033 21000.\n",
            " 29000.         20000.         16000.         29000.\n",
            " 23000.         33448.27586207 21000.         37431.03448276\n",
            " 22000.         26000.         28000.         26000.\n",
            " 20000.         31665.07177033 31665.07177033 31665.07177033\n",
            " 31665.07177033 22000.         17000.         16000.\n",
            " 37431.03448276 26000.         26000.         37431.03448276\n",
            " 28000.         19000.         37431.03448276 30000.\n",
            " 21000.         27000.         26000.         22000.\n",
            " 26000.         33448.27586207 37431.03448276 24000.\n",
            " 17000.         27441.86046512 20000.         21000.\n",
            " 18000.         17000.         28000.         21000.\n",
            " 31665.07177033 27441.86046512 33448.27586207 29000.\n",
            " 31665.07177033 31665.07177033 31665.07177033 18000.\n",
            " 25000.         33448.27586207 28000.         23000.\n",
            " 32807.69230769 37431.03448276 33448.27586207 33448.27586207\n",
            " 20000.         31665.07177033 31665.07177033 19000.\n",
            " 31665.07177033 24000.         25000.         29000.\n",
            " 27441.86046512 30000.         33448.27586207 30000.\n",
            " 19000.         27441.86046512 37431.03448276 23000.\n",
            " 33448.27586207 33448.27586207 22000.         22000.\n",
            " 29000.         32807.69230769 28000.         27441.86046512\n",
            " 37431.03448276 24000.         27441.86046512 21000.\n",
            " 21000.         25000.         28000.         26000.\n",
            " 22000.         21000.         19000.         27000.\n",
            " 28000.        ]\n"
          ]
        }
      ]
    },
    {
      "cell_type": "code",
      "source": [
        "print(\"mean absolute error = \",round(mean_absolute_error(y_test, pre),4))\n",
        "print(\"Explain variance score =\", round(sm.explained_variance_score(y_test, pre), 4)) \n",
        "print(\"R2 score =\", round(sm.r2_score(y_test, pre), 4))\n",
        "print(\"mean absolute percentage error = \",round(mean_absolute_percentage_error(y_test, pre),4))\n",
        "print(\"mean squared error = \",round(mean_squared_error(y_test,pre),4))"
      ],
      "metadata": {
        "colab": {
          "base_uri": "https://localhost:8080/"
        },
        "id": "gJcB_5cxgPI9",
        "outputId": "13a54296-f67e-4b34-9e37-5dd8d12153d9"
      },
      "execution_count": null,
      "outputs": [
        {
          "output_type": "stream",
          "name": "stdout",
          "text": [
            "mean absolute error =  349.6587\n",
            "Explain variance score = 0.8656\n",
            "R2 score = 0.8639\n",
            "mean absolute percentage error =  0.0083\n",
            "mean squared error =  4976356.6553\n"
          ]
        }
      ]
    },
    {
      "cell_type": "markdown",
      "source": [
        "Logistic Regression"
      ],
      "metadata": {
        "id": "lJVekAODHRFq"
      }
    },
    {
      "cell_type": "code",
      "source": [
        "from sklearn.linear_model import LogisticRegression\n",
        "lr = LogisticRegression()\n",
        "# Fitting the LogisticRegression model to the data\n",
        "lr.fit(X_train, y_train)\n",
        "y_lr_pre = lr.predict(X_test)"
      ],
      "metadata": {
        "colab": {
          "base_uri": "https://localhost:8080/"
        },
        "id": "nsfNXKSWg6OP",
        "outputId": "089a0640-e229-4b5c-e7cc-ef175355896a"
      },
      "execution_count": null,
      "outputs": [
        {
          "output_type": "stream",
          "name": "stderr",
          "text": [
            "/usr/local/lib/python3.7/dist-packages/sklearn/linear_model/_logistic.py:818: ConvergenceWarning: lbfgs failed to converge (status=1):\n",
            "STOP: TOTAL NO. of ITERATIONS REACHED LIMIT.\n",
            "\n",
            "Increase the number of iterations (max_iter) or scale the data as shown in:\n",
            "    https://scikit-learn.org/stable/modules/preprocessing.html\n",
            "Please also refer to the documentation for alternative solver options:\n",
            "    https://scikit-learn.org/stable/modules/linear_model.html#logistic-regression\n",
            "  extra_warning_msg=_LOGISTIC_SOLVER_CONVERGENCE_MSG,\n"
          ]
        }
      ]
    },
    {
      "cell_type": "code",
      "source": [
        "print(\"mean absolute error = \",round(mean_absolute_error(y_test, y_lr_pre),4))\n",
        "print(\"Explain variance score =\", round(sm.explained_variance_score(y_test, y_lr_pre), 4)) \n",
        "print(\"R2 score =\", round(sm.r2_score(y_test, y_lr_pre), 4))\n",
        "print(\"mean absolute percentage error = \",round(mean_absolute_percentage_error(y_test, y_lr_pre),4))\n",
        "print(\"mean squared error = \",round(mean_squared_error(y_test,y_lr_pre),4))"
      ],
      "metadata": {
        "colab": {
          "base_uri": "https://localhost:8080/"
        },
        "id": "W2H_dRHBh11_",
        "outputId": "64133088-fad0-4364-b163-c953085dbf1b"
      },
      "execution_count": null,
      "outputs": [
        {
          "output_type": "stream",
          "name": "stdout",
          "text": [
            "mean absolute error =  1182.5939\n",
            "Explain variance score = 0.874\n",
            "R2 score = 0.8739\n",
            "mean absolute percentage error =  0.0433\n",
            "mean squared error =  4611774.744\n"
          ]
        }
      ]
    },
    {
      "cell_type": "code",
      "source": [
        "#from sklearn.metrics import accuracy_score\n",
        "#accuracy_score(y_test, y_lr_pre)"
      ],
      "metadata": {
        "id": "pZKrVsi8Gup6"
      },
      "execution_count": null,
      "outputs": []
    },
    {
      "cell_type": "markdown",
      "source": [
        "Gaussian Naive Bayes"
      ],
      "metadata": {
        "id": "5KCWH0FCOG1t"
      }
    },
    {
      "cell_type": "code",
      "source": [
        "from sklearn.naive_bayes import GaussianNB  \n",
        "classifier = GaussianNB()  \n",
        "classifier.fit(X_train, y_train)"
      ],
      "metadata": {
        "colab": {
          "base_uri": "https://localhost:8080/"
        },
        "id": "bZkLvReBfSgq",
        "outputId": "374a07d7-03bd-4b6e-92ce-f02f095a1d27"
      },
      "execution_count": null,
      "outputs": [
        {
          "output_type": "execute_result",
          "data": {
            "text/plain": [
              "GaussianNB()"
            ]
          },
          "metadata": {},
          "execution_count": 40
        }
      ]
    },
    {
      "cell_type": "code",
      "source": [
        "#Predicting the test set result  \n",
        "y_pred_GaussianNB= classifier.predict(X_test)\n",
        "print(y_pred_GaussianNB)"
      ],
      "metadata": {
        "colab": {
          "base_uri": "https://localhost:8080/"
        },
        "id": "YKkheBoafmFJ",
        "outputId": "d9a6dae8-6d20-40dd-fa62-12444167d1a6"
      },
      "execution_count": null,
      "outputs": [
        {
          "output_type": "stream",
          "name": "stdout",
          "text": [
            "[30000 32000 31000 31000 31000 26000 22000 28000 23000 27000 28000 27000\n",
            " 29000 32000 28000 16000 18000 36000 18000 23000 27000 22000 27000 35000\n",
            " 32000 27000 31000 30000 24000 21000 32000 18000 31000 27000 33000 21000\n",
            " 32000 27000 17000 29000 21000 21000 32000 34000 29000 35000 17000 27000\n",
            " 29000 32000 21000 36000 26000 24000 28000 30000 26000 25000 18000 16000\n",
            " 25000 22000 18000 18000 17000 18000 17000 31000 32000 21000 34000 25000\n",
            " 29000 27000 22000 27000 34000 32000 34000 34000 25000 32000 26000 28000\n",
            " 33000 32000 31000 26000 24000 32000 27000 32000 29000 31000 26000 16000\n",
            " 36000 19000 27000 30000 17000 24000 28000 22000 24000 33000 21000 23000\n",
            " 23000 34000 32000 36000 27000 29000 29000 27000 32000 31000 31000 34000\n",
            " 35000 32000 31000 32000 29000 24000 32000 30000 29000 26000 24000 30000\n",
            " 25000 17000 18000 22000 30000 29000 29000 17000 31000 17000 35000 30000\n",
            " 24000 26000 22000 32000 21000 27000 31000 33000 27000 24000 17000 19000\n",
            " 18000 28000 28000 28000 18000 31000 33000 22000 21000 24000 32000 32000\n",
            " 20000 28000 35000 19000 18000 22000 20000 32000 19000 17000 25000 24000\n",
            " 20000 34000 21000 20000 28000 23000 17000 32000 27000 20000 31000 17000\n",
            " 34000 32000 32000 21000 29000 20000 16000 29000 23000 34000 21000 35000\n",
            " 22000 26000 28000 26000 20000 31000 32000 32000 32000 22000 17000 16000\n",
            " 36000 26000 26000 36000 28000 19000 35000 30000 21000 27000 26000 22000\n",
            " 26000 33000 36000 24000 17000 28000 20000 21000 18000 17000 28000 21000\n",
            " 31000 27000 34000 29000 31000 32000 32000 18000 25000 34000 28000 23000\n",
            " 35000 36000 33000 34000 20000 31000 31000 19000 32000 24000 25000 29000\n",
            " 27000 30000 34000 30000 19000 27000 52000 23000 34000 33000 22000 22000\n",
            " 29000 36000 28000 28000 36000 24000 28000 21000 21000 25000 28000 26000\n",
            " 22000 21000 19000 27000 28000]\n"
          ]
        }
      ]
    },
    {
      "cell_type": "code",
      "source": [
        "print(\"mean absolute error = \",round(mean_absolute_error(y_test, y_pred_GaussianNB),4))\n",
        "print(\"Explain variance score =\", round(sm.explained_variance_score(y_test, y_pred_GaussianNB), 4)) \n",
        "print(\"R2 score =\", round(sm.r2_score(y_test, y_pred_GaussianNB), 4))\n",
        "print(\"mean absolute percentage error = \",round(mean_absolute_percentage_error(y_test, y_pred_GaussianNB),4))\n",
        "print(\"mean squared error = \",round(mean_squared_error(y_test,y_pred_GaussianNB),4))"
      ],
      "metadata": {
        "colab": {
          "base_uri": "https://localhost:8080/"
        },
        "id": "VMU7vry5f1oP",
        "outputId": "99189650-71b9-4807-c05d-dc5e93e13d4b"
      },
      "execution_count": null,
      "outputs": [
        {
          "output_type": "stream",
          "name": "stdout",
          "text": [
            "mean absolute error =  179.1809\n",
            "Explain variance score = 0.9587\n",
            "R2 score = 0.9584\n",
            "mean absolute percentage error =  0.0044\n",
            "mean squared error =  1519624.5734\n"
          ]
        }
      ]
    }
  ]
}